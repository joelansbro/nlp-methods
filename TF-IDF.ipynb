{
 "cells": [
  {
   "cell_type": "markdown",
   "metadata": {},
   "source": [
    "## Term Frequency - Inverse Document Frequency\n",
    "\n",
    "The more frequenct a term appears in a given document, and the fewer times it appears in other documents, the higher the TF-IDF value"
   ]
  },
  {
   "cell_type": "code",
   "execution_count": 2,
   "metadata": {},
   "outputs": [],
   "source": [
    "import spacy\n",
    "\n",
    "from sklearn.datasets import fetch_20newsgroups\n",
    "from sklearn.feature_extraction.text import TfidfVectorizer\n",
    "from sklearn.metrics.pairwise import cosine_similarity"
   ]
  },
  {
   "cell_type": "markdown",
   "metadata": {},
   "source": [
    "Using a scikit learn dataset to operate on a larger dataset\n",
    "20 Newsgroups is a collection of 18,000 newsgroup posts across 20 topics"
   ]
  },
  {
   "cell_type": "code",
   "execution_count": 3,
   "metadata": {},
   "outputs": [],
   "source": [
    "corpus = fetch_20newsgroups(categories=['sci.space'], remove=['headers','footers','quotes'])"
   ]
  },
  {
   "cell_type": "code",
   "execution_count": 4,
   "metadata": {},
   "outputs": [
    {
     "name": "stdout",
     "output_type": "stream",
     "text": [
      "<class 'sklearn.utils._bunch.Bunch'>\n"
     ]
    }
   ],
   "source": [
    "print(type(corpus))"
   ]
  },
  {
   "cell_type": "code",
   "execution_count": 5,
   "metadata": {},
   "outputs": [
    {
     "data": {
      "text/plain": [
       "593"
      ]
     },
     "execution_count": 5,
     "metadata": {},
     "output_type": "execute_result"
    }
   ],
   "source": [
    "len(corpus.data)"
   ]
  },
  {
   "cell_type": "code",
   "execution_count": 7,
   "metadata": {},
   "outputs": [
    {
     "data": {
      "text/plain": [
       "[\"\\nAny lunar satellite needs fuel to do regular orbit corrections, and when\\nits fuel runs out it will crash within months.  The orbits of the Apollo\\nmotherships changed noticeably during lunar missions lasting only a few\\ndays.  It is *possible* that there are stable orbits here and there --\\nthe Moon's gravitational field is poorly mapped -- but we know of none.\\n\\nPerturbations from Sun and Earth are relatively minor issues at low\\naltitudes.  The big problem is that the Moon's own gravitational field\\nis quite lumpy due to the irregular distribution of mass within the Moon.\",\n",
       " '\\nGlad to see Griffin is spending his time on engineering rather than on\\nritual purification of the language.  Pity he got stuck with the turkey\\nrather than one of the sensible options.']"
      ]
     },
     "execution_count": 7,
     "metadata": {},
     "output_type": "execute_result"
    }
   ],
   "source": [
    "corpus.data[:2]"
   ]
  },
  {
   "cell_type": "code",
   "execution_count": 10,
   "metadata": {},
   "outputs": [],
   "source": [
    "nlp = spacy.load('en_core_web_sm')\n",
    "# get rid of named entity recognition and dependency parsing\n",
    "unwanted_pipes = ['ner','parser']"
   ]
  },
  {
   "cell_type": "code",
   "execution_count": 9,
   "metadata": {},
   "outputs": [],
   "source": [
    "# will remove punctuation and spaces (including newlines) filter for tokens consisting of alphabetic characters, and return the lemma (which require POS tagging)\n",
    "def spacy_tokenizer(doc):\n",
    "    with nlp.disable_pipes(*unwanted_pipes):\n",
    "        return [t.lemma for t in nlp(doc) if not t.is_punct and not t.is_space and t.is_alpha]"
   ]
  },
  {
   "cell_type": "code",
   "execution_count": 11,
   "metadata": {},
   "outputs": [],
   "source": [
    "vectorizer = TfidfVectorizer(tokenizer=spacy_tokenizer)\n",
    "features = vectorizer.fit_transform(corpus.data)"
   ]
  },
  {
   "cell_type": "code",
   "execution_count": 12,
   "metadata": {},
   "outputs": [
    {
     "name": "stdout",
     "output_type": "stream",
     "text": [
      "9469\n"
     ]
    }
   ],
   "source": [
    "# number of unique tokens\n",
    "print(len(vectorizer.get_feature_names_out()))"
   ]
  },
  {
   "cell_type": "code",
   "execution_count": 15,
   "metadata": {},
   "outputs": [
    {
     "name": "stdout",
     "output_type": "stream",
     "text": [
      "(593, 9469)\n"
     ]
    }
   ],
   "source": [
    "# the dimensions of our feature matrix. X rows (documents) and Y columns (tokens)\n",
    "print(features.shape)"
   ]
  },
  {
   "cell_type": "code",
   "execution_count": 16,
   "metadata": {},
   "outputs": [
    {
     "name": "stdout",
     "output_type": "stream",
     "text": [
      "  (0, 6609)\t0.10452465319204224\n",
      "  (0, 2792)\t0.12746673572641337\n",
      "  (0, 6474)\t0.15331277268825122\n",
      "  (0, 1975)\t0.10862134983649849\n",
      "  (0, 5931)\t0.17102243214182047\n",
      "  (0, 5823)\t0.09939758959196421\n",
      "  (0, 1398)\t0.10183273017124134\n",
      "  (0, 2352)\t0.08455248650428543\n",
      "  (0, 8033)\t0.08929749232550656\n",
      "  (0, 3940)\t0.11094564582599897\n",
      "  (0, 7284)\t0.0824741348739743\n",
      "  (0, 6066)\t0.05104326044583604\n",
      "  (0, 2483)\t0.10269890253976902\n",
      "  (0, 7976)\t0.13259379932649137\n",
      "  (0, 9015)\t0.12524362655380208\n",
      "  (0, 1370)\t0.07376358403679217\n",
      "  (0, 6880)\t0.09512941822420008\n",
      "  (0, 4099)\t0.051873252060803496\n",
      "  (0, 2766)\t0.13901479196044814\n",
      "  (0, 3214)\t0.11219221685212125\n",
      "  (0, 4047)\t0.06321553828701997\n",
      "  (0, 8309)\t0.060883075560077576\n",
      "  (0, 7551)\t0.048917557559216875\n",
      "  (0, 1942)\t0.12319856435864923\n",
      "  (0, 2697)\t0.15331277268825122\n",
      "  :\t:\n",
      "  (0, 2079)\t0.09036221462758656\n",
      "  (0, 1860)\t0.17102243214182047\n",
      "  (0, 3332)\t0.10452465319204224\n",
      "  (0, 486)\t0.09913077191467295\n",
      "  (0, 3867)\t0.20402427950185778\n",
      "  (0, 7733)\t0.10099496207230896\n",
      "  (0, 4011)\t0.19294889310170182\n",
      "  (0, 7521)\t0.135603113234682\n",
      "  (0, 9398)\t0.05987440623617899\n",
      "  (0, 5330)\t0.07654678460464726\n",
      "  (0, 899)\t0.06436834906895003\n",
      "  (0, 6637)\t0.09789423612431815\n",
      "  (0, 6505)\t0.0752239608115977\n",
      "  (0, 8190)\t0.07158783287193733\n",
      "  (0, 1205)\t0.10543917645771247\n",
      "  (0, 8982)\t0.135603113234682\n",
      "  (0, 8186)\t0.21554964821105232\n",
      "  (0, 8058)\t0.135603113234682\n",
      "  (0, 1143)\t0.043431930668155455\n",
      "  (0, 1986)\t0.06551367047806549\n",
      "  (0, 5513)\t0.19879517918392842\n",
      "  (0, 278)\t0.07462975640531987\n",
      "  (0, 7652)\t0.08827537051327851\n",
      "  (0, 7579)\t0.17756264093912102\n",
      "  (0, 6808)\t0.07006958599794154\n"
     ]
    }
   ],
   "source": [
    "# what the encoding of the first document looks like in sparse format\n",
    "print(features[0])"
   ]
  },
  {
   "cell_type": "markdown",
   "metadata": {},
   "source": [
    "there are TF-IDF variations out there and scikit-learn, among other things, adds smoothing (adds a one to the numerator and denominator in the IDF component), and normalizes by default. \n",
    "These can be disabled if desired using the smooth_idf and norm parameters respectively."
   ]
  },
  {
   "cell_type": "code",
   "execution_count": 19,
   "metadata": {},
   "outputs": [],
   "source": [
    "# transform query into a TF-IDF vector\n",
    "query = ['lunar orbit']\n",
    "query_tfidf = vectorizer.transform(query)"
   ]
  },
  {
   "cell_type": "code",
   "execution_count": 20,
   "metadata": {},
   "outputs": [],
   "source": [
    "# calculate the cosin similarities between the query and each document\n",
    "# flatten() the returned list\n",
    "cosine_similarities = cosine_similarity(features, query_tfidf).flatten()"
   ]
  },
  {
   "cell_type": "code",
   "execution_count": 21,
   "metadata": {},
   "outputs": [],
   "source": [
    "import numpy as np"
   ]
  },
  {
   "cell_type": "code",
   "execution_count": 23,
   "metadata": {},
   "outputs": [],
   "source": [
    "# numpy's argsort() method returns a list of *indices* that would sort an array\n",
    "# the sort is ascending, we want the largest k cosine_similarities at the bottom of the sort, so we negate k and get the last k entries of the list in reverse order\n",
    "\n",
    "def top_k(arr, k):\n",
    "    kth_largest = (k + 1) * -1\n",
    "    return np.argsort(arr)[:kth_largest:-1]"
   ]
  },
  {
   "cell_type": "code",
   "execution_count": 25,
   "metadata": {},
   "outputs": [
    {
     "name": "stdout",
     "output_type": "stream",
     "text": [
      "[249 108   0 312 509]\n"
     ]
    }
   ],
   "source": [
    "# we query the above, returns top documents\n",
    "top_related_indices = top_k(cosine_similarities, 5)\n",
    "print(top_related_indices)"
   ]
  },
  {
   "cell_type": "code",
   "execution_count": 27,
   "metadata": {},
   "outputs": [
    {
     "name": "stdout",
     "output_type": "stream",
     "text": [
      "[0.4784239  0.42898437 0.27362524 0.19484222 0.19133134]\n"
     ]
    }
   ],
   "source": [
    "print(cosine_similarities[top_related_indices])"
   ]
  },
  {
   "cell_type": "code",
   "execution_count": 28,
   "metadata": {},
   "outputs": [
    {
     "name": "stdout",
     "output_type": "stream",
     "text": [
      "\n",
      "Actually, Hiten wasn't originally intended to go into lunar orbit at all,\n",
      "so it indeed didn't have much fuel on hand.  The lunar-orbit mission was\n",
      "an afterthought, after Hagoromo (a tiny subsatellite deployed by Hiten\n",
      "during a lunar flyby) had a transmitter failure and its proper insertion\n",
      "into lunar orbit couldn't be positively confirmed.\n",
      "\n",
      "It should be noted that the technique does have disadvantages.  It takes\n",
      "a long time, and you end up with a relatively inconvenient lunar orbit.\n",
      "If you want something useful like a low circular polar orbit, you do have\n",
      "to plan to expend a certain amount of fuel, although it is reduced from\n",
      "what you'd need for the brute-force approach.\n"
     ]
    }
   ],
   "source": [
    "print(corpus.data[top_related_indices[0]])"
   ]
  },
  {
   "cell_type": "code",
   "execution_count": 29,
   "metadata": {},
   "outputs": [
    {
     "name": "stdout",
     "output_type": "stream",
     "text": [
      "\n",
      "Their Hiten engineering-test mission spent a while in a highly eccentric\n",
      "Earth orbit doing lunar flybys, and then was inserted into lunar orbit\n",
      "using some very tricky gravity-assist-like maneuvering.  This meant that\n",
      "it would crash on the Moon eventually, since there is no such thing as\n",
      "a stable lunar orbit (as far as anyone knows), and I believe I recall\n",
      "hearing recently that it was about to happen.\n"
     ]
    }
   ],
   "source": [
    "print(corpus.data[top_related_indices[1]])"
   ]
  },
  {
   "cell_type": "code",
   "execution_count": 30,
   "metadata": {},
   "outputs": [
    {
     "name": "stdout",
     "output_type": "stream",
     "text": [
      "[378 138 248  61 236]\n",
      "[0.38931334 0.34090226 0.29842859 0.25673657 0.24577701]\n"
     ]
    }
   ],
   "source": [
    "# another query\n",
    "query2 = ['satellite']\n",
    "query_tfidf2 = vectorizer.transform(query2)\n",
    "\n",
    "cosine_similarities2 = cosine_similarity(features, query_tfidf2).flatten()\n",
    "top_related_indices2 = top_k(cosine_similarities2, 5)\n",
    "\n",
    "print(top_related_indices2)\n",
    "print(cosine_similarities2[top_related_indices2])"
   ]
  },
  {
   "cell_type": "code",
   "execution_count": 31,
   "metadata": {},
   "outputs": [
    {
     "name": "stdout",
     "output_type": "stream",
     "text": [
      "\n",
      "\n",
      "As an Amateur Radio operator (VHF 2metres) I like to keep up with what is \n",
      "going up (and for that matter what is coming down too).\n",
      " \n",
      "In about 30 days I have learned ALOT about satellites current, future and \n",
      "past all the way back to Vanguard series and up to Astro D observatory \n",
      "(space).  I borrowed a book from the library called Weater Satellites (I \n",
      "think, it has a photo of the earth with a TIROS type satellite on it.)\n",
      " \n",
      "I would like to build a model or have a large color poster of one of the \n",
      "TIROS satellites I think there are places in the USA that sell them.\n",
      "ITOS is my favorite looking satellite, followed by AmSat-OSCAR 13 \n",
      "(AO-13).\n",
      " \n",
      "TTYL\n",
      "73\n",
      "Jim\n"
     ]
    }
   ],
   "source": [
    "print(corpus.data[top_related_indices2[0]])"
   ]
  }
 ],
 "metadata": {
  "interpreter": {
   "hash": "916dbcbb3f70747c44a77c7bcd40155683ae19c65e1c03b4aa3499c5328201f1"
  },
  "kernelspec": {
   "display_name": "Python 3.8.10 64-bit",
   "language": "python",
   "name": "python3"
  },
  "language_info": {
   "codemirror_mode": {
    "name": "ipython",
    "version": 3
   },
   "file_extension": ".py",
   "mimetype": "text/x-python",
   "name": "python",
   "nbconvert_exporter": "python",
   "pygments_lexer": "ipython3",
   "version": "3.8.10"
  },
  "orig_nbformat": 4
 },
 "nbformat": 4,
 "nbformat_minor": 2
}
