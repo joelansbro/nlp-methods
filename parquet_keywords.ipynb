{
 "cells": [
  {
   "cell_type": "code",
   "execution_count": 20,
   "metadata": {},
   "outputs": [],
   "source": [
    "import spacy\n",
    "\n",
    "from collections import Counter\n",
    "from string import punctuation"
   ]
  },
  {
   "cell_type": "code",
   "execution_count": 2,
   "metadata": {},
   "outputs": [],
   "source": [
    "import pandas as pd"
   ]
  },
  {
   "cell_type": "code",
   "execution_count": 4,
   "metadata": {},
   "outputs": [],
   "source": [
    "data_set = pd.read_parquet('./data/sample.parquet')"
   ]
  },
  {
   "cell_type": "code",
   "execution_count": 33,
   "metadata": {},
   "outputs": [],
   "source": [
    "text = str(data_set['content'][1])"
   ]
  },
  {
   "cell_type": "code",
   "execution_count": 21,
   "metadata": {},
   "outputs": [],
   "source": [
    "nlp = spacy.load(\"en_core_web_sm\")"
   ]
  },
  {
   "cell_type": "code",
   "execution_count": 22,
   "metadata": {},
   "outputs": [],
   "source": [
    "def get_hotwords(text):\n",
    "    result = []\n",
    "    pos_tag = ['PROPN', 'ADJ', 'NOUN', 'VERB'] \n",
    "    doc = nlp(text.lower()) \n",
    "    for token in doc:\n",
    "        if(token.text in nlp.Defaults.stop_words or token.text in punctuation):\n",
    "            continue\n",
    "        if(token.pos_ in pos_tag):\n",
    "            result.append(token.text)\n",
    "    return result"
   ]
  },
  {
   "cell_type": "code",
   "execution_count": 34,
   "metadata": {},
   "outputs": [],
   "source": [
    "output = set(get_hotwords(text))"
   ]
  },
  {
   "cell_type": "code",
   "execution_count": 35,
   "metadata": {},
   "outputs": [],
   "source": [
    "most_common_list = Counter(output).most_common(10)"
   ]
  },
  {
   "cell_type": "code",
   "execution_count": 36,
   "metadata": {},
   "outputs": [
    {
     "name": "stdout",
     "output_type": "stream",
     "text": [
      "results\n",
      "default\n",
      "interesting\n",
      "x201c;optimizations&#x201d\n",
      "types\n",
      "cry\n",
      "linux.7\n",
      "terms\n",
      "course\n",
      "unreachable\n"
     ]
    }
   ],
   "source": [
    "for item in most_common_list:\n",
    "    print(item[0])"
   ]
  },
  {
   "cell_type": "code",
   "execution_count": 37,
   "metadata": {},
   "outputs": [
    {
     "name": "stdout",
     "output_type": "stream",
     "text": [
      "which are crying out to be implemented as indexed columns in a real database.8. Security, ha ha, let&#x2019;s pretendDespite the fact that the Registry is just a plain file that you can modify using all sorts of external tools (eg. our hivex shell), you can create &#x201C;unreadable&#x201D; and &#x201C;unwritable&#x201D; keys. These are &#x201C;secure&#x201D; from the point of view of Windows, unless you just modify the Registry binary file directly.Windows also uses an unhealthy dose of security-through-obscurity. It hides password salts in the obscure &#x201C;ClassName&#x201D; field of the Registry key. The &#x201C;security&#x201D; here relies entirely on the fact that the default Windows REGEDIT program cannot view or edit the ClassName of a key. Anyone with a binary editor can get around this restriction trivially.9. The Registry is obsolete, sortaWell the good news is the Registry is obsolete. The bad news is that Vista has introduced another, incompatible way to store application data, in AppData/Local and AppData/LocalLow directories, but that Windows Vista and Windows 7 continue to rely on the Registry for all sorts of critical data, and it doesn&#x2019;t look like this mess is going to go away any time soon.* * *libguestfs on Fedora now provides the tools you need to manage the Registry in Windows virtual machines. For more details, see hivexsh and virt-win-reg documentation.Update Thanks to all who commented. There is further discussion here on Reddit and here on Hacker News (including discussion of inaccuracies in what I wrote). If you want to look at our analysis code, it&#x2019;s all here in our source repository. For further references on the Registry binary format, follow the links in the hivex README file. ters outside the heap, and cause Windows to fail or hang (see point 3). It&#x2019;s endian and wordsize specific. It depends on the structure packing of the original compiler circa 1992.3. The implementation of reading/writing the Registry in Windows NT is poorYou might expect, given how critical the Registry is to Window&#x2019;s integrity, that the people who wrote the code that loads it would have spent a bit of time thinking about checking the file for consistency, but apparently this is not done. All versions of Windows tested will simply ignore blocks which are not aligned correctly. Ditto, will ignore directory entries which are not in alphabetical order (it just stops reading at the first place it finds a subdirectory named B &gt; next entry A). Ditto, will ignore file entries which contain various sorts of invalid field.The upshot of this is you can easily hide stuff in the Registry binary which is completely invisible to Windows, but will be apparent in other tools. From the point of view of other tools (like our hivex tool) we have to write exactly the same bits that Windows would write, to be sure that Windows will be able to read it. Any mistakes we make, even apparently innocuous ones, are silently punished.Compare this to using an established filesystem format, where everyone knows the rules, and consistency (eg. fsck/chkdsk) matters.Writing sucks too, because the programmers don&#x2019;t correctly zero out fields, so you&#x2019;ll find parts (particularly the Registry header) which contain random bits of memory, presumably kernel memory, dumped into the file. I didn&#x2019;t find anything interesting there yet &#x2026;I also found Registries containing unreachable blocks (and not, I might add, ones which I&#x2019;d tried modifying). I find it very strange that relatively newly created Windows 7 VMs which don&#x2019;t have any sort of virus infection, have visible Registry corruption.4. Types are not well specifiedEach registry field superficially is typed, so REG_SZ is a string, and REG_EXPAND_SZ is, erm, also a string. Good, right? No, because what counts as a &#x201C;string&#x201D; is not well-defined. A string might be encoded in 7 bit ASCII, or UTF-16-LE. The only way to know is to know what versions of Windows will use the registry.Strings are also stored in REG_BINARY fields (in various encodings), but also raw binary data is stored in these fields.Count yourself lucky if you only access official Microsoft fields though because some applications don&#x2019;t confine themselves to the published types at all, and just use the type field for whatever they feel like.And what&#x2019;s up with having REG_DWORD (little-endian of course) and REG_DWORD_BIG_ENDIAN, and REG_QWORD, but no REG_QWORD_BIG_ENDIAN?5. Interchange formats are not well specifiedA critical part of installing many drivers is making registry edits, and for this a text format (.REG) is used along with the REGEDIT program. The thing is though that the .REG format is not well-specified in terms of backslash escaping. You can find examples of .REG files that have both:\n"
     ]
    }
   ],
   "source": [
    "print(text)"
   ]
  },
  {
   "cell_type": "code",
   "execution_count": null,
   "metadata": {},
   "outputs": [],
   "source": []
  }
 ],
 "metadata": {
  "kernelspec": {
   "display_name": "Python 3.8.10 64-bit",
   "language": "python",
   "name": "python3"
  },
  "language_info": {
   "codemirror_mode": {
    "name": "ipython",
    "version": 3
   },
   "file_extension": ".py",
   "mimetype": "text/x-python",
   "name": "python",
   "nbconvert_exporter": "python",
   "pygments_lexer": "ipython3",
   "version": "3.8.10"
  },
  "orig_nbformat": 4,
  "vscode": {
   "interpreter": {
    "hash": "916dbcbb3f70747c44a77c7bcd40155683ae19c65e1c03b4aa3499c5328201f1"
   }
  }
 },
 "nbformat": 4,
 "nbformat_minor": 2
}
