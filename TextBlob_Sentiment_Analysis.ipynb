{
 "cells": [
  {
   "cell_type": "code",
   "execution_count": 1,
   "metadata": {},
   "outputs": [],
   "source": [
    "import spacy\n",
    "import pandas as pd\n",
    "from spacytextblob.spacytextblob import SpacyTextBlob\n",
    "from vaderSentiment.vaderSentiment import SentimentIntensityAnalyzer\n",
    "import statistics"
   ]
  },
  {
   "cell_type": "markdown",
   "metadata": {},
   "source": [
    "## Sentiment Analysis\n",
    "5/11/2022\n",
    "Running down several blog articles in order to judge their sentiment\n",
    "\n",
    "Schema for test is: title, content, polarity, subjectivity"
   ]
  },
  {
   "cell_type": "code",
   "execution_count": 2,
   "metadata": {},
   "outputs": [],
   "source": [
    "# SpacyTextBlob objects\n",
    "\n",
    "nlp = spacy.load(\"en_core_web_sm\")\n",
    "nlp.add_pipe(\"spacytextblob\")\n",
    "\n",
    "# VADER objects\n",
    "\n",
    "vader_analyzer = SentimentIntensityAnalyzer()"
   ]
  },
  {
   "cell_type": "code",
   "execution_count": 28,
   "metadata": {},
   "outputs": [],
   "source": [
    "data_frame = pd.read_csv('./data/neg_data.csv')"
   ]
  },
  {
   "cell_type": "code",
   "execution_count": 29,
   "metadata": {},
   "outputs": [
    {
     "data": {
      "text/html": [
       "<div>\n",
       "<style scoped>\n",
       "    .dataframe tbody tr th:only-of-type {\n",
       "        vertical-align: middle;\n",
       "    }\n",
       "\n",
       "    .dataframe tbody tr th {\n",
       "        vertical-align: top;\n",
       "    }\n",
       "\n",
       "    .dataframe thead th {\n",
       "        text-align: right;\n",
       "    }\n",
       "</style>\n",
       "<table border=\"1\" class=\"dataframe\">\n",
       "  <thead>\n",
       "    <tr style=\"text-align: right;\">\n",
       "      <th></th>\n",
       "      <th>word_count</th>\n",
       "    </tr>\n",
       "  </thead>\n",
       "  <tbody>\n",
       "    <tr>\n",
       "      <th>count</th>\n",
       "      <td>13.000000</td>\n",
       "    </tr>\n",
       "    <tr>\n",
       "      <th>mean</th>\n",
       "      <td>1002.692308</td>\n",
       "    </tr>\n",
       "    <tr>\n",
       "      <th>std</th>\n",
       "      <td>979.181153</td>\n",
       "    </tr>\n",
       "    <tr>\n",
       "      <th>min</th>\n",
       "      <td>70.000000</td>\n",
       "    </tr>\n",
       "    <tr>\n",
       "      <th>25%</th>\n",
       "      <td>393.000000</td>\n",
       "    </tr>\n",
       "    <tr>\n",
       "      <th>50%</th>\n",
       "      <td>836.000000</td>\n",
       "    </tr>\n",
       "    <tr>\n",
       "      <th>75%</th>\n",
       "      <td>998.000000</td>\n",
       "    </tr>\n",
       "    <tr>\n",
       "      <th>max</th>\n",
       "      <td>3132.000000</td>\n",
       "    </tr>\n",
       "  </tbody>\n",
       "</table>\n",
       "</div>"
      ],
      "text/plain": [
       "        word_count\n",
       "count    13.000000\n",
       "mean   1002.692308\n",
       "std     979.181153\n",
       "min      70.000000\n",
       "25%     393.000000\n",
       "50%     836.000000\n",
       "75%     998.000000\n",
       "max    3132.000000"
      ]
     },
     "execution_count": 29,
     "metadata": {},
     "output_type": "execute_result"
    }
   ],
   "source": [
    "data_frame.describe()"
   ]
  },
  {
   "cell_type": "code",
   "execution_count": 30,
   "metadata": {},
   "outputs": [],
   "source": [
    "def sentiment_analysis(value):\n",
    "    \"\"\"Runs the NLP model over each row's content field to interpet the article sentiment.\n",
    "\n",
    "    Input - pd.DataFrame.row\n",
    "\n",
    "    Output\n",
    "          - article polarity: Float\n",
    "          - article subjectivity: Float  \n",
    "    \"\"\"\n",
    "    if value['content']:\n",
    "        # spacyTextBlob operation\n",
    "        text_data = value['content']\n",
    "        doc = nlp(text_data)\n",
    "\n",
    "        # VADER content operation is vader_analyzer object\n",
    "        vader_polarity = vader_analyzer.polarity_scores(text_data)\n",
    "        vader_polarity_compound = vader_polarity['compound']\n",
    "        vader_polarity_pos = vader_polarity['pos']\n",
    "        vader_polarity_neg = vader_polarity['neg']\n",
    "        vader_polarity_neu = vader_polarity['neu']\n",
    "\n",
    "        # aggregate the two libraries together\n",
    "        aggregation = [doc._.blob.polarity,vader_polarity_compound]\n",
    "        ensemble_sentiment_score = statistics.mean(aggregation)\n",
    "        sentiment = \"\"\n",
    "\n",
    "        if ensemble_sentiment_score >= 0.0:\n",
    "            sentiment = \"POSITIVE\"\n",
    "        else:\n",
    "            sentiment = \"NEGATIVE\" \n",
    "\n",
    "        return pd.Series(\n",
    "            [\n",
    "                doc._.blob.polarity,\n",
    "                doc._.blob.subjectivity,\n",
    "                doc._.blob.sentiment_assessments.assessments,\n",
    "                vader_polarity_compound,\n",
    "                vader_polarity_pos,\n",
    "                vader_polarity_neu,\n",
    "                vader_polarity_neg,\n",
    "                ensemble_sentiment_score,\n",
    "                sentiment,\n",
    "            ])\n",
    "    \n",
    "    else:\n",
    "        return \"N/A\", \"N/A\""
   ]
  },
  {
   "cell_type": "code",
   "execution_count": 31,
   "metadata": {},
   "outputs": [],
   "source": [
    "data_frame[[\n",
    "    'TB_polarity',\n",
    "    'TB_subjectivity',\n",
    "    'TB_assessments',\n",
    "    'Vader_polarity',\n",
    "    'Vader_positive',\n",
    "    'Vader_neutral',\n",
    "    'Vader_negative',\n",
    "    'ensemble_sentiment_score',\n",
    "    'sentiment'\n",
    "    ]] = data_frame.apply(lambda row,: sentiment_analysis(row), axis=1)"
   ]
  },
  {
   "cell_type": "code",
   "execution_count": 48,
   "metadata": {},
   "outputs": [
    {
     "data": {
      "text/html": [
       "<div>\n",
       "<style scoped>\n",
       "    .dataframe tbody tr th:only-of-type {\n",
       "        vertical-align: middle;\n",
       "    }\n",
       "\n",
       "    .dataframe tbody tr th {\n",
       "        vertical-align: top;\n",
       "    }\n",
       "\n",
       "    .dataframe thead th {\n",
       "        text-align: right;\n",
       "    }\n",
       "</style>\n",
       "<table border=\"1\" class=\"dataframe\">\n",
       "  <thead>\n",
       "    <tr style=\"text-align: right;\">\n",
       "      <th></th>\n",
       "      <th>title</th>\n",
       "      <th>content</th>\n",
       "      <th>word_count</th>\n",
       "      <th>TB_polarity</th>\n",
       "      <th>TB_subjectivity</th>\n",
       "      <th>TB_assessments</th>\n",
       "      <th>Vader_polarity</th>\n",
       "      <th>Vader_positive</th>\n",
       "      <th>Vader_neutral</th>\n",
       "      <th>Vader_negative</th>\n",
       "      <th>ensemble_sentiment_score</th>\n",
       "      <th>sentiment</th>\n",
       "    </tr>\n",
       "  </thead>\n",
       "  <tbody>\n",
       "    <tr>\n",
       "      <th>1</th>\n",
       "      <td>Python Is Not A Great Programming Language</td>\n",
       "      <td>Instantly share code, notes, and snippet...</td>\n",
       "      <td>91</td>\n",
       "      <td>-0.100000</td>\n",
       "      <td>0.505556</td>\n",
       "      <td>[([instantly], 0.0, 0.6666666666666666, None),...</td>\n",
       "      <td>-0.2718</td>\n",
       "      <td>0.044</td>\n",
       "      <td>0.891</td>\n",
       "      <td>0.065</td>\n",
       "      <td>-0.185900</td>\n",
       "      <td>NEGATIVE</td>\n",
       "    </tr>\n",
       "    <tr>\n",
       "      <th>3</th>\n",
       "      <td>Ian Mallett - Tutorials: Java is Bad for You Page</td>\n",
       "      <td>Java is Bad for You by Ian Mallett ====INTROD...</td>\n",
       "      <td>3132</td>\n",
       "      <td>0.076773</td>\n",
       "      <td>0.490374</td>\n",
       "      <td>[([bad], -0.6999999999999998, 0.66666666666666...</td>\n",
       "      <td>-0.9914</td>\n",
       "      <td>0.094</td>\n",
       "      <td>0.801</td>\n",
       "      <td>0.105</td>\n",
       "      <td>-0.457313</td>\n",
       "      <td>NEGATIVE</td>\n",
       "    </tr>\n",
       "    <tr>\n",
       "      <th>4</th>\n",
       "      <td>Experienced Developers, Use These Telltale Sig...</td>\n",
       "      <td>Photo by Tima Miroshnichenko from PexelsYou’ve...</td>\n",
       "      <td>836</td>\n",
       "      <td>-0.034986</td>\n",
       "      <td>0.473423</td>\n",
       "      <td>[([bad], -0.6999999999999998, 0.66666666666666...</td>\n",
       "      <td>-0.7354</td>\n",
       "      <td>0.102</td>\n",
       "      <td>0.792</td>\n",
       "      <td>0.106</td>\n",
       "      <td>-0.385193</td>\n",
       "      <td>NEGATIVE</td>\n",
       "    </tr>\n",
       "    <tr>\n",
       "      <th>5</th>\n",
       "      <td>Java Makes Programmers Want To Do Absolutely A...</td>\n",
       "      <td>This question originally appeared on Quora: Wh...</td>\n",
       "      <td>1819</td>\n",
       "      <td>0.033512</td>\n",
       "      <td>0.496629</td>\n",
       "      <td>[([originally], 0.375, 0.75, None), ([many], 0...</td>\n",
       "      <td>-0.9746</td>\n",
       "      <td>0.102</td>\n",
       "      <td>0.788</td>\n",
       "      <td>0.110</td>\n",
       "      <td>-0.470544</td>\n",
       "      <td>NEGATIVE</td>\n",
       "    </tr>\n",
       "    <tr>\n",
       "      <th>9</th>\n",
       "      <td>Java is a Bad Language</td>\n",
       "      <td>By Tristan Olynick, Staff WriterAs someone w...</td>\n",
       "      <td>393</td>\n",
       "      <td>-0.032180</td>\n",
       "      <td>0.521271</td>\n",
       "      <td>[([extensive], 0.0, 0.3333333333333333, None),...</td>\n",
       "      <td>-0.9103</td>\n",
       "      <td>0.058</td>\n",
       "      <td>0.856</td>\n",
       "      <td>0.085</td>\n",
       "      <td>-0.471240</td>\n",
       "      <td>NEGATIVE</td>\n",
       "    </tr>\n",
       "  </tbody>\n",
       "</table>\n",
       "</div>"
      ],
      "text/plain": [
       "                                               title  \\\n",
       "1         Python Is Not A Great Programming Language   \n",
       "3  Ian Mallett - Tutorials: Java is Bad for You Page   \n",
       "4  Experienced Developers, Use These Telltale Sig...   \n",
       "5  Java Makes Programmers Want To Do Absolutely A...   \n",
       "9                             Java is a Bad Language   \n",
       "\n",
       "                                             content  word_count  TB_polarity  \\\n",
       "1        Instantly share code, notes, and snippet...          91    -0.100000   \n",
       "3   Java is Bad for You by Ian Mallett ====INTROD...        3132     0.076773   \n",
       "4  Photo by Tima Miroshnichenko from PexelsYou’ve...         836    -0.034986   \n",
       "5  This question originally appeared on Quora: Wh...        1819     0.033512   \n",
       "9    By Tristan Olynick, Staff WriterAs someone w...         393    -0.032180   \n",
       "\n",
       "   TB_subjectivity                                     TB_assessments  \\\n",
       "1         0.505556  [([instantly], 0.0, 0.6666666666666666, None),...   \n",
       "3         0.490374  [([bad], -0.6999999999999998, 0.66666666666666...   \n",
       "4         0.473423  [([bad], -0.6999999999999998, 0.66666666666666...   \n",
       "5         0.496629  [([originally], 0.375, 0.75, None), ([many], 0...   \n",
       "9         0.521271  [([extensive], 0.0, 0.3333333333333333, None),...   \n",
       "\n",
       "   Vader_polarity  Vader_positive  Vader_neutral  Vader_negative  \\\n",
       "1         -0.2718           0.044          0.891           0.065   \n",
       "3         -0.9914           0.094          0.801           0.105   \n",
       "4         -0.7354           0.102          0.792           0.106   \n",
       "5         -0.9746           0.102          0.788           0.110   \n",
       "9         -0.9103           0.058          0.856           0.085   \n",
       "\n",
       "   ensemble_sentiment_score sentiment  \n",
       "1                 -0.185900  NEGATIVE  \n",
       "3                 -0.457313  NEGATIVE  \n",
       "4                 -0.385193  NEGATIVE  \n",
       "5                 -0.470544  NEGATIVE  \n",
       "9                 -0.471240  NEGATIVE  "
      ]
     },
     "execution_count": 48,
     "metadata": {},
     "output_type": "execute_result"
    }
   ],
   "source": [
    "data_frame.loc[data_frame['Vader_polarity'] <= 0.0].head(20)"
   ]
  },
  {
   "cell_type": "markdown",
   "metadata": {},
   "source": [
    "### FineGrain look at the content"
   ]
  },
  {
   "cell_type": "code",
   "execution_count": 46,
   "metadata": {},
   "outputs": [
    {
     "data": {
      "text/plain": [
       "title                                               My negative views on Rust\n",
       "content                      This is a little summary of my current though...\n",
       "word_count                                                                982\n",
       "TB_polarity                                                          0.170886\n",
       "TB_subjectivity                                                      0.483501\n",
       "TB_assessments              [([little], -0.1875, 0.5, None), ([current], 0...\n",
       "Vader_polarity                                                          0.997\n",
       "Vader_positive                                                          0.124\n",
       "Vader_neutral                                                            0.82\n",
       "Vader_negative                                                          0.056\n",
       "ensemble_sentiment_score                                             0.583943\n",
       "sentiment                                                            POSITIVE\n",
       "Name: 11, dtype: object"
      ]
     },
     "execution_count": 46,
     "metadata": {},
     "output_type": "execute_result"
    }
   ],
   "source": [
    "data_frame.iloc[11]"
   ]
  },
  {
   "cell_type": "code",
   "execution_count": null,
   "metadata": {},
   "outputs": [],
   "source": [
    "data_frame['content'].iloc[11]"
   ]
  },
  {
   "cell_type": "markdown",
   "metadata": {},
   "source": [
    "## SpacyTextBlob"
   ]
  },
  {
   "cell_type": "code",
   "execution_count": 36,
   "metadata": {},
   "outputs": [
    {
     "data": {
      "image/png": "[encoded data removed]",
      "text/plain": [
       "<Figure size 432x288 with 1 Axes>"
      ]
     },
     "metadata": {
      "needs_background": "light"
     },
     "output_type": "display_data"
    }
   ],
   "source": [
    "# examine the relationship between polarity and word_count, if any\n",
    "chart = data_frame.plot(kind='scatter',x='word_count',y='TB_polarity')"
   ]
  },
  {
   "cell_type": "code",
   "execution_count": 37,
   "metadata": {},
   "outputs": [
    {
     "name": "stdout",
     "output_type": "stream",
     "text": [
      "The range of polarity for the given articles is: 0.18266515781396733-0.10000000000000002\n"
     ]
    }
   ],
   "source": [
    "# getting more information on the range found\n",
    "maxdf = data_frame[data_frame['TB_polarity']==data_frame['TB_polarity'].max()]\n",
    "mindf = data_frame[data_frame['TB_polarity']==data_frame['TB_polarity'].min()]\n",
    "print(\"The range of polarity for the given articles is: \" + str(maxdf.iloc[0]['TB_polarity']) + str(mindf.iloc[0]['TB_polarity']))"
   ]
  },
  {
   "cell_type": "markdown",
   "metadata": {},
   "source": [
    "## VADER"
   ]
  },
  {
   "cell_type": "code",
   "execution_count": 39,
   "metadata": {},
   "outputs": [
    {
     "data": {
      "image/png": "[encoded data removed]",
      "text/plain": [
       "<Figure size 432x288 with 1 Axes>"
      ]
     },
     "metadata": {
      "needs_background": "light"
     },
     "output_type": "display_data"
    }
   ],
   "source": [
    "chart = data_frame.plot(kind='scatter',x='word_count',y='Vader_polarity')"
   ]
  },
  {
   "cell_type": "code",
   "execution_count": 84,
   "metadata": {},
   "outputs": [
    {
     "name": "stdout",
     "output_type": "stream",
     "text": [
      "The range of polarity for the given articles is: 1.0-0.9939\n"
     ]
    }
   ],
   "source": [
    "# getting more information on the range found\n",
    "maxdf = data_frame[data_frame['Vader_polarity']==data_frame['Vader_polarity'].max()]\n",
    "mindf = data_frame[data_frame['Vader_polarity']==data_frame['Vader_polarity'].min()]\n",
    "print(\"The range of polarity for the given articles is: \" + str(maxdf.iloc[0]['Vader_polarity']) + str(mindf.iloc[0]['Vader_polarity']))"
   ]
  },
  {
   "cell_type": "code",
   "execution_count": 44,
   "metadata": {},
   "outputs": [
    {
     "data": {
      "text/plain": [
       "<AxesSubplot:ylabel='Density'>"
      ]
     },
     "execution_count": 44,
     "metadata": {},
     "output_type": "execute_result"
    },
    {
     "data": {
      "image/png": "[encoded data removed]",
      "text/plain": [
       "<Figure size 432x288 with 1 Axes>"
      ]
     },
     "metadata": {
      "needs_background": "light"
     },
     "output_type": "display_data"
    }
   ],
   "source": [
    "data_frame.plot(kind='kde',x='word_count',y=['TB_polarity','Vader_polarity','ensemble_sentiment_score'])"
   ]
  },
  {
   "cell_type": "code",
   "execution_count": 45,
   "metadata": {},
   "outputs": [
    {
     "data": {
      "image/png": "[encoded data removed]",
      "text/plain": [
       "<Figure size 432x288 with 1 Axes>"
      ]
     },
     "metadata": {
      "needs_background": "light"
     },
     "output_type": "display_data"
    }
   ],
   "source": [
    "chart = data_frame.plot(kind='scatter',x='word_count',y=['ensemble_sentiment_score'])"
   ]
  },
  {
   "cell_type": "code",
   "execution_count": null,
   "metadata": {},
   "outputs": [],
   "source": []
  }
 ],
 "metadata": {
  "kernelspec": {
   "display_name": "Python 3.8.10 64-bit",
   "language": "python",
   "name": "python3"
  },
  "language_info": {
   "codemirror_mode": {
    "name": "ipython",
    "version": 3
   },
   "file_extension": ".py",
   "mimetype": "text/x-python",
   "name": "python",
   "nbconvert_exporter": "python",
   "pygments_lexer": "ipython3",
   "version": "3.8.10"
  },
  "orig_nbformat": 4,
  "vscode": {
   "interpreter": {
    "hash": "916dbcbb3f70747c44a77c7bcd40155683ae19c65e1c03b4aa3499c5328201f1"
   }
  }
 },
 "nbformat": 4,
 "nbformat_minor": 2
}
