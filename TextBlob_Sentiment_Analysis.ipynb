{
 "cells": [
  {
   "cell_type": "code",
   "execution_count": 56,
   "metadata": {},
   "outputs": [],
   "source": [
    "import spacy\n",
    "import pandas as pd\n",
    "from spacytextblob.spacytextblob import SpacyTextBlob\n",
    "from vaderSentiment.vaderSentiment import SentimentIntensityAnalyzer"
   ]
  },
  {
   "cell_type": "markdown",
   "metadata": {},
   "source": [
    "## Sentiment Analysis\n",
    "5/11/2022\n",
    "Running down several blog articles in order to judge their sentiment\n",
    "\n",
    "Schema for test is: title, content, polarity, subjectivity"
   ]
  },
  {
   "cell_type": "code",
   "execution_count": 57,
   "metadata": {},
   "outputs": [],
   "source": [
    "# SpacyTextBlob objects\n",
    "\n",
    "nlp = spacy.load(\"en_core_web_sm\")\n",
    "nlp.add_pipe(\"spacytextblob\")\n",
    "\n",
    "# VADER objects\n",
    "\n",
    "vader_analyzer = SentimentIntensityAnalyzer()"
   ]
  },
  {
   "cell_type": "code",
   "execution_count": 61,
   "metadata": {},
   "outputs": [],
   "source": [
    "data_frame = pd.read_csv('./data/dataset.csv')"
   ]
  },
  {
   "cell_type": "code",
   "execution_count": 62,
   "metadata": {},
   "outputs": [
    {
     "data": {
      "text/html": [
       "<div>\n",
       "<style scoped>\n",
       "    .dataframe tbody tr th:only-of-type {\n",
       "        vertical-align: middle;\n",
       "    }\n",
       "\n",
       "    .dataframe tbody tr th {\n",
       "        vertical-align: top;\n",
       "    }\n",
       "\n",
       "    .dataframe thead th {\n",
       "        text-align: right;\n",
       "    }\n",
       "</style>\n",
       "<table border=\"1\" class=\"dataframe\">\n",
       "  <thead>\n",
       "    <tr style=\"text-align: right;\">\n",
       "      <th></th>\n",
       "      <th>word_count</th>\n",
       "    </tr>\n",
       "  </thead>\n",
       "  <tbody>\n",
       "    <tr>\n",
       "      <th>count</th>\n",
       "      <td>210.000000</td>\n",
       "    </tr>\n",
       "    <tr>\n",
       "      <th>mean</th>\n",
       "      <td>1329.595238</td>\n",
       "    </tr>\n",
       "    <tr>\n",
       "      <th>std</th>\n",
       "      <td>1224.730777</td>\n",
       "    </tr>\n",
       "    <tr>\n",
       "      <th>min</th>\n",
       "      <td>2.000000</td>\n",
       "    </tr>\n",
       "    <tr>\n",
       "      <th>25%</th>\n",
       "      <td>470.250000</td>\n",
       "    </tr>\n",
       "    <tr>\n",
       "      <th>50%</th>\n",
       "      <td>1031.000000</td>\n",
       "    </tr>\n",
       "    <tr>\n",
       "      <th>75%</th>\n",
       "      <td>1926.000000</td>\n",
       "    </tr>\n",
       "    <tr>\n",
       "      <th>max</th>\n",
       "      <td>6171.000000</td>\n",
       "    </tr>\n",
       "  </tbody>\n",
       "</table>\n",
       "</div>"
      ],
      "text/plain": [
       "        word_count\n",
       "count   210.000000\n",
       "mean   1329.595238\n",
       "std    1224.730777\n",
       "min       2.000000\n",
       "25%     470.250000\n",
       "50%    1031.000000\n",
       "75%    1926.000000\n",
       "max    6171.000000"
      ]
     },
     "execution_count": 62,
     "metadata": {},
     "output_type": "execute_result"
    }
   ],
   "source": [
    "data_frame.describe()"
   ]
  },
  {
   "cell_type": "code",
   "execution_count": 102,
   "metadata": {},
   "outputs": [],
   "source": [
    "def sentiment_analysis(value):\n",
    "    \"\"\"Runs the NLP model over each row's content field to interpet the article sentiment.\n",
    "\n",
    "    Input - pd.DataFrame.row\n",
    "\n",
    "    Output\n",
    "          - article polarity: Float\n",
    "          - article subjectivity: Float  \n",
    "    \"\"\"\n",
    "    if value['content']:\n",
    "        # spacyTextBlob operation\n",
    "        text_data = value['content']\n",
    "        doc = nlp(text_data)\n",
    "\n",
    "        # VADER content operation is vader_analyzer object\n",
    "        vader_polarity = vader_analyzer.polarity_scores(text_data)\n",
    "        vader_polarity_compound = vader_polarity['compound']\n",
    "        vader_polarity_pos = vader_polarity['pos']\n",
    "        vader_polarity_neg = vader_polarity['neg']\n",
    "        vader_polarity_neu = vader_polarity['neu']\n",
    "\n",
    "        return pd.Series(\n",
    "            [\n",
    "                doc._.blob.polarity,\n",
    "                doc._.blob.subjectivity,\n",
    "                doc._.blob.sentiment_assessments.assessments,\n",
    "                vader_polarity_compound,\n",
    "                vader_polarity_pos,\n",
    "                vader_polarity_neu,\n",
    "                vader_polarity_neg,\n",
    "            ])\n",
    "    \n",
    "    else:\n",
    "        return \"N/A\", \"N/A\""
   ]
  },
  {
   "cell_type": "code",
   "execution_count": 103,
   "metadata": {},
   "outputs": [],
   "source": [
    "data_frame[[\n",
    "    'TB_polarity',\n",
    "    'TB_subjectivity',\n",
    "    'TB_assessments',\n",
    "    'Vader_polarity',\n",
    "    'Vader_positive',\n",
    "    'Vader_neutral',\n",
    "    'Vader_negative'\n",
    "    ]] = data_frame.apply(lambda row,: sentiment_analysis(row), axis=1)"
   ]
  },
  {
   "cell_type": "code",
   "execution_count": null,
   "metadata": {},
   "outputs": [],
   "source": [
    "data_frame.loc[data_frame['Vader_polarity'] >= 0.8].head(20)"
   ]
  },
  {
   "cell_type": "markdown",
   "metadata": {},
   "source": [
    "### FineGrain look at the content"
   ]
  },
  {
   "cell_type": "code",
   "execution_count": 100,
   "metadata": {},
   "outputs": [
    {
     "data": {
      "text/plain": [
       "title              TODOs for Effective ML teamwork at an early-st...\n",
       "content            Oct 1, 2022 - 7  read Generated by Midjourner ...\n",
       "word_count                                                      2630\n",
       "TB_polarity                                                 0.128617\n",
       "TB_subjectivity                                             0.529179\n",
       "TB_assessments     [([french], 0.0, 0.0, None), ([classical], 0.0...\n",
       "Vader_polarity                                                0.9996\n",
       "Name: 11, dtype: object"
      ]
     },
     "execution_count": 100,
     "metadata": {},
     "output_type": "execute_result"
    }
   ],
   "source": [
    "data_frame.iloc[11]"
   ]
  },
  {
   "cell_type": "code",
   "execution_count": null,
   "metadata": {},
   "outputs": [],
   "source": [
    "data_frame['content'].iloc[11]"
   ]
  },
  {
   "cell_type": "markdown",
   "metadata": {},
   "source": [
    "## SpacyTextBlob"
   ]
  },
  {
   "cell_type": "code",
   "execution_count": 75,
   "metadata": {},
   "outputs": [
    {
     "data": {
      "image/png": "[encoded data removed]",
      "text/plain": [
       "<Figure size 432x288 with 1 Axes>"
      ]
     },
     "metadata": {
      "needs_background": "light"
     },
     "output_type": "display_data"
    }
   ],
   "source": [
    "# examine the relationship between polarity and word_count, if any\n",
    "chart = data_frame.plot(kind='scatter',x='word_count',y='TB_polarity')"
   ]
  },
  {
   "cell_type": "code",
   "execution_count": 83,
   "metadata": {},
   "outputs": [
    {
     "name": "stdout",
     "output_type": "stream",
     "text": [
      "The range of polarity for the given articles is: 0.4121212121212121-0.10604547781967136\n"
     ]
    }
   ],
   "source": [
    "# getting more information on the range found\n",
    "maxdf = data_frame[data_frame['TB_polarity']==data_frame['TB_polarity'].max()]\n",
    "mindf = data_frame[data_frame['TB_polarity']==data_frame['TB_polarity'].min()]\n",
    "print(\"The range of polarity for the given articles is: \" + str(maxdf.iloc[0]['TB_polarity']) + str(mindf.iloc[0]['TB_polarity']))"
   ]
  },
  {
   "cell_type": "markdown",
   "metadata": {},
   "source": [
    "## VADER"
   ]
  },
  {
   "cell_type": "code",
   "execution_count": 105,
   "metadata": {},
   "outputs": [
    {
     "data": {
      "image/png": "[encoded data removed]",
      "text/plain": [
       "<Figure size 432x288 with 1 Axes>"
      ]
     },
     "metadata": {
      "needs_background": "light"
     },
     "output_type": "display_data"
    }
   ],
   "source": [
    "chart = data_frame.plot(kind='scatter',x='word_count',y='Vader_positive')"
   ]
  },
  {
   "cell_type": "code",
   "execution_count": 84,
   "metadata": {},
   "outputs": [
    {
     "name": "stdout",
     "output_type": "stream",
     "text": [
      "The range of polarity for the given articles is: 1.0-0.9939\n"
     ]
    }
   ],
   "source": [
    "# getting more information on the range found\n",
    "maxdf = data_frame[data_frame['Vader_polarity']==data_frame['Vader_polarity'].max()]\n",
    "mindf = data_frame[data_frame['Vader_polarity']==data_frame['Vader_polarity'].min()]\n",
    "print(\"The range of polarity for the given articles is: \" + str(maxdf.iloc[0]['Vader_polarity']) + str(mindf.iloc[0]['Vader_polarity']))"
   ]
  },
  {
   "cell_type": "code",
   "execution_count": 106,
   "metadata": {},
   "outputs": [
    {
     "data": {
      "text/plain": [
       "<AxesSubplot:ylabel='Density'>"
      ]
     },
     "execution_count": 106,
     "metadata": {},
     "output_type": "execute_result"
    },
    {
     "data": {
      "image/png": "[encoded data removed]",
      "text/plain": [
       "<Figure size 432x288 with 1 Axes>"
      ]
     },
     "metadata": {
      "needs_background": "light"
     },
     "output_type": "display_data"
    }
   ],
   "source": [
    "data_frame.plot(kind='kde',x='word_count',y=['TB_polarity','Vader_positive'])"
   ]
  },
  {
   "cell_type": "code",
   "execution_count": null,
   "metadata": {},
   "outputs": [],
   "source": []
  }
 ],
 "metadata": {
  "kernelspec": {
   "display_name": "Python 3.8.10 64-bit",
   "language": "python",
   "name": "python3"
  },
  "language_info": {
   "codemirror_mode": {
    "name": "ipython",
    "version": 3
   },
   "file_extension": ".py",
   "mimetype": "text/x-python",
   "name": "python",
   "nbconvert_exporter": "python",
   "pygments_lexer": "ipython3",
   "version": "3.8.10"
  },
  "orig_nbformat": 4,
  "vscode": {
   "interpreter": {
    "hash": "916dbcbb3f70747c44a77c7bcd40155683ae19c65e1c03b4aa3499c5328201f1"
   }
  }
 },
 "nbformat": 4,
 "nbformat_minor": 2
}
