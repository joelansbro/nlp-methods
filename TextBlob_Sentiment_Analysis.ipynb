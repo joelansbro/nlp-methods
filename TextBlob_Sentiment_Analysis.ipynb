{
 "cells": [
  {
   "cell_type": "code",
   "execution_count": 2,
   "metadata": {},
   "outputs": [],
   "source": [
    "import spacy\n",
    "import pandas as pd\n",
    "from spacytextblob.spacytextblob import SpacyTextBlob"
   ]
  },
  {
   "cell_type": "markdown",
   "metadata": {},
   "source": [
    "## Sentiment Analysis\n",
    "5/11/2022\n",
    "Running down several blog articles in order to judge their sentiment\n",
    "\n",
    "Schema for test is: title, content, polarity, subjectivity"
   ]
  },
  {
   "cell_type": "code",
   "execution_count": 3,
   "metadata": {},
   "outputs": [
    {
     "data": {
      "text/plain": [
       "<spacytextblob.spacytextblob.SpacyTextBlob at 0x7f2dddc24e80>"
      ]
     },
     "execution_count": 3,
     "metadata": {},
     "output_type": "execute_result"
    }
   ],
   "source": [
    "nlp = spacy.load(\"en_core_web_sm\")\n",
    "nlp.add_pipe(\"spacytextblob\")"
   ]
  },
  {
   "cell_type": "code",
   "execution_count": 25,
   "metadata": {},
   "outputs": [],
   "source": [
    "data_frame = pd.read_csv('./data/dataset.csv')"
   ]
  },
  {
   "cell_type": "code",
   "execution_count": 58,
   "metadata": {},
   "outputs": [
    {
     "data": {
      "text/html": [
       "<div>\n",
       "<style scoped>\n",
       "    .dataframe tbody tr th:only-of-type {\n",
       "        vertical-align: middle;\n",
       "    }\n",
       "\n",
       "    .dataframe tbody tr th {\n",
       "        vertical-align: top;\n",
       "    }\n",
       "\n",
       "    .dataframe thead th {\n",
       "        text-align: right;\n",
       "    }\n",
       "</style>\n",
       "<table border=\"1\" class=\"dataframe\">\n",
       "  <thead>\n",
       "    <tr style=\"text-align: right;\">\n",
       "      <th></th>\n",
       "      <th>word_count</th>\n",
       "      <th>polarity</th>\n",
       "      <th>subjectivity</th>\n",
       "    </tr>\n",
       "  </thead>\n",
       "  <tbody>\n",
       "    <tr>\n",
       "      <th>count</th>\n",
       "      <td>22.000000</td>\n",
       "      <td>22.000000</td>\n",
       "      <td>22.000000</td>\n",
       "    </tr>\n",
       "    <tr>\n",
       "      <th>mean</th>\n",
       "      <td>2387.227273</td>\n",
       "      <td>0.075501</td>\n",
       "      <td>0.458591</td>\n",
       "    </tr>\n",
       "    <tr>\n",
       "      <th>std</th>\n",
       "      <td>1231.944724</td>\n",
       "      <td>0.066012</td>\n",
       "      <td>0.053688</td>\n",
       "    </tr>\n",
       "    <tr>\n",
       "      <th>min</th>\n",
       "      <td>1034.000000</td>\n",
       "      <td>-0.106045</td>\n",
       "      <td>0.362908</td>\n",
       "    </tr>\n",
       "    <tr>\n",
       "      <th>25%</th>\n",
       "      <td>1704.500000</td>\n",
       "      <td>0.054266</td>\n",
       "      <td>0.429687</td>\n",
       "    </tr>\n",
       "    <tr>\n",
       "      <th>50%</th>\n",
       "      <td>2013.500000</td>\n",
       "      <td>0.090132</td>\n",
       "      <td>0.458119</td>\n",
       "    </tr>\n",
       "    <tr>\n",
       "      <th>75%</th>\n",
       "      <td>2590.750000</td>\n",
       "      <td>0.120110</td>\n",
       "      <td>0.486465</td>\n",
       "    </tr>\n",
       "    <tr>\n",
       "      <th>max</th>\n",
       "      <td>5943.000000</td>\n",
       "      <td>0.153225</td>\n",
       "      <td>0.551905</td>\n",
       "    </tr>\n",
       "  </tbody>\n",
       "</table>\n",
       "</div>"
      ],
      "text/plain": [
       "        word_count   polarity  subjectivity\n",
       "count    22.000000  22.000000     22.000000\n",
       "mean   2387.227273   0.075501      0.458591\n",
       "std    1231.944724   0.066012      0.053688\n",
       "min    1034.000000  -0.106045      0.362908\n",
       "25%    1704.500000   0.054266      0.429687\n",
       "50%    2013.500000   0.090132      0.458119\n",
       "75%    2590.750000   0.120110      0.486465\n",
       "max    5943.000000   0.153225      0.551905"
      ]
     },
     "execution_count": 58,
     "metadata": {},
     "output_type": "execute_result"
    }
   ],
   "source": [
    "data_frame.describe()"
   ]
  },
  {
   "cell_type": "code",
   "execution_count": 26,
   "metadata": {},
   "outputs": [],
   "source": [
    "def sentiment_analysis(value):\n",
    "    \"\"\"Runs the NLP model over each row's content field to interpet the article sentiment.\n",
    "\n",
    "    Input - pd.DataFrame.row\n",
    "\n",
    "    Output\n",
    "          - article polarity: Float\n",
    "          - article subjectivity: Float  \n",
    "    \"\"\"\n",
    "    if value['content']:\n",
    "        text_data = value['content']\n",
    "        doc = nlp(text_data)\n",
    "        return pd.Series([doc._.blob.polarity, doc._.blob.subjectivity])\n",
    "    else:\n",
    "        return \"N/A\", \"N/A\""
   ]
  },
  {
   "cell_type": "code",
   "execution_count": 27,
   "metadata": {},
   "outputs": [],
   "source": [
    "data_frame[['polarity','subjectivity']] = data_frame.apply(lambda row,: sentiment_analysis(row), axis=1)"
   ]
  },
  {
   "cell_type": "code",
   "execution_count": 28,
   "metadata": {},
   "outputs": [
    {
     "data": {
      "text/html": [
       "<div>\n",
       "<style scoped>\n",
       "    .dataframe tbody tr th:only-of-type {\n",
       "        vertical-align: middle;\n",
       "    }\n",
       "\n",
       "    .dataframe tbody tr th {\n",
       "        vertical-align: top;\n",
       "    }\n",
       "\n",
       "    .dataframe thead th {\n",
       "        text-align: right;\n",
       "    }\n",
       "</style>\n",
       "<table border=\"1\" class=\"dataframe\">\n",
       "  <thead>\n",
       "    <tr style=\"text-align: right;\">\n",
       "      <th></th>\n",
       "      <th>title</th>\n",
       "      <th>content</th>\n",
       "      <th>word_count</th>\n",
       "      <th>polarity</th>\n",
       "      <th>subjectivity</th>\n",
       "    </tr>\n",
       "  </thead>\n",
       "  <tbody>\n",
       "    <tr>\n",
       "      <th>0</th>\n",
       "      <td>Graph Data Visualization With GraphQL &amp; react-...</td>\n",
       "      <td>William Lyon / September 29, 202110 min read •...</td>\n",
       "      <td>1764</td>\n",
       "      <td>-0.106045</td>\n",
       "      <td>0.546654</td>\n",
       "    </tr>\n",
       "    <tr>\n",
       "      <th>1</th>\n",
       "      <td>LOCF and Linear Imputation with PostgreSQL</td>\n",
       "      <td>This tutorial will introduce vario...</td>\n",
       "      <td>1698</td>\n",
       "      <td>0.067014</td>\n",
       "      <td>0.400341</td>\n",
       "    </tr>\n",
       "    <tr>\n",
       "      <th>2</th>\n",
       "      <td>Recommending Subreddits by Computing User Simi...</td>\n",
       "      <td>Someone famous once said that if you click on...</td>\n",
       "      <td>2201</td>\n",
       "      <td>0.074672</td>\n",
       "      <td>0.493033</td>\n",
       "    </tr>\n",
       "    <tr>\n",
       "      <th>3</th>\n",
       "      <td>writing</td>\n",
       "      <td>Hiring data scientists  Back to writing   202...</td>\n",
       "      <td>2284</td>\n",
       "      <td>0.139745</td>\n",
       "      <td>0.474933</td>\n",
       "    </tr>\n",
       "    <tr>\n",
       "      <th>4</th>\n",
       "      <td>No Cost Data Scraping With GitHub Actions And ...</td>\n",
       "      <td>William Lyon / July 20, 202111 min read • When...</td>\n",
       "      <td>1846</td>\n",
       "      <td>0.153225</td>\n",
       "      <td>0.362908</td>\n",
       "    </tr>\n",
       "    <tr>\n",
       "      <th>5</th>\n",
       "      <td>Adaptive data analysis</td>\n",
       "      <td>I just returned from NIPS 2015, a joyful week...</td>\n",
       "      <td>1724</td>\n",
       "      <td>0.088070</td>\n",
       "      <td>0.488368</td>\n",
       "    </tr>\n",
       "    <tr>\n",
       "      <th>6</th>\n",
       "      <td>Master Python`s pandas library with these 100 ...</td>\n",
       "      <td>September 5, 2019 · Python tutorial Below you...</td>\n",
       "      <td>4031</td>\n",
       "      <td>0.112285</td>\n",
       "      <td>0.408070</td>\n",
       "    </tr>\n",
       "    <tr>\n",
       "      <th>7</th>\n",
       "      <td>Simulating Chutes &amp; Ladders in Python</td>\n",
       "      <td>Mon 18 December 2017   Edit 12/19/2017: add...</td>\n",
       "      <td>5035</td>\n",
       "      <td>0.015709</td>\n",
       "      <td>0.431921</td>\n",
       "    </tr>\n",
       "    <tr>\n",
       "      <th>8</th>\n",
       "      <td>Slow Data</td>\n",
       "      <td>Abstract: Data is the new media. Thus the pos...</td>\n",
       "      <td>2864</td>\n",
       "      <td>0.092194</td>\n",
       "      <td>0.458740</td>\n",
       "    </tr>\n",
       "    <tr>\n",
       "      <th>9</th>\n",
       "      <td>Mimicking Writing Style With Markov Chains</td>\n",
       "      <td>I’m not sure if you guys will remember this, ...</td>\n",
       "      <td>2005</td>\n",
       "      <td>0.051639</td>\n",
       "      <td>0.540245</td>\n",
       "    </tr>\n",
       "    <tr>\n",
       "      <th>10</th>\n",
       "      <td>Reduce GPU costs with startup scripts on the G...</td>\n",
       "      <td>This post is about leveraging on demand capa...</td>\n",
       "      <td>2022</td>\n",
       "      <td>0.122718</td>\n",
       "      <td>0.432649</td>\n",
       "    </tr>\n",
       "    <tr>\n",
       "      <th>11</th>\n",
       "      <td>Approaching fairness in machine learning</td>\n",
       "      <td>As machine learning increasingly affects doma...</td>\n",
       "      <td>1179</td>\n",
       "      <td>0.045305</td>\n",
       "      <td>0.473254</td>\n",
       "    </tr>\n",
       "    <tr>\n",
       "      <th>12</th>\n",
       "      <td>Illustrated Guide to ROC and AUC</td>\n",
       "      <td>(In a past job interview I failed at explainin...</td>\n",
       "      <td>1622</td>\n",
       "      <td>0.019617</td>\n",
       "      <td>0.480755</td>\n",
       "    </tr>\n",
       "    <tr>\n",
       "      <th>13</th>\n",
       "      <td>The Softmax Function Derivative (Part 3)</td>\n",
       "      <td>Previously I’ve shown how to work out the der...</td>\n",
       "      <td>1034</td>\n",
       "      <td>-0.069071</td>\n",
       "      <td>0.371108</td>\n",
       "    </tr>\n",
       "    <tr>\n",
       "      <th>14</th>\n",
       "      <td>Optimization of Scientific Code with Cython: I...</td>\n",
       "      <td>Mon 11 December 2017    Python is quick and...</td>\n",
       "      <td>1163</td>\n",
       "      <td>0.146825</td>\n",
       "      <td>0.551905</td>\n",
       "    </tr>\n",
       "    <tr>\n",
       "      <th>15</th>\n",
       "      <td>TODOs for Effective ML teamwork at an early-st...</td>\n",
       "      <td>Oct 1, 2022 - 7  read Generated by Midjourner ...</td>\n",
       "      <td>2630</td>\n",
       "      <td>0.128617</td>\n",
       "      <td>0.529179</td>\n",
       "    </tr>\n",
       "    <tr>\n",
       "      <th>16</th>\n",
       "      <td>Analyzing Housing Prices in Berkeley</td>\n",
       "      <td>This project was done with Yika Luo and Shash...</td>\n",
       "      <td>2473</td>\n",
       "      <td>0.099281</td>\n",
       "      <td>0.453941</td>\n",
       "    </tr>\n",
       "    <tr>\n",
       "      <th>17</th>\n",
       "      <td>Gradient descent learns linear dynamical systems</td>\n",
       "      <td>Cross-posted at offconvex.org. From text tran...</td>\n",
       "      <td>1926</td>\n",
       "      <td>0.062146</td>\n",
       "      <td>0.457498</td>\n",
       "    </tr>\n",
       "    <tr>\n",
       "      <th>18</th>\n",
       "      <td>writing | trey causey</td>\n",
       "      <td>Software development skills for data scientis...</td>\n",
       "      <td>2378</td>\n",
       "      <td>0.144574</td>\n",
       "      <td>0.467050</td>\n",
       "    </tr>\n",
       "    <tr>\n",
       "      <th>19</th>\n",
       "      <td>The Waiting Time Paradox, or, Why Is My Bus Al...</td>\n",
       "      <td>Image Source: Wikipedia License CC-BY-SA 3.0...</td>\n",
       "      <td>3273</td>\n",
       "      <td>0.064687</td>\n",
       "      <td>0.395443</td>\n",
       "    </tr>\n",
       "  </tbody>\n",
       "</table>\n",
       "</div>"
      ],
      "text/plain": [
       "                                                title  \\\n",
       "0   Graph Data Visualization With GraphQL & react-...   \n",
       "1          LOCF and Linear Imputation with PostgreSQL   \n",
       "2   Recommending Subreddits by Computing User Simi...   \n",
       "3                                             writing   \n",
       "4   No Cost Data Scraping With GitHub Actions And ...   \n",
       "5                              Adaptive data analysis   \n",
       "6   Master Python`s pandas library with these 100 ...   \n",
       "7               Simulating Chutes & Ladders in Python   \n",
       "8                                           Slow Data   \n",
       "9          Mimicking Writing Style With Markov Chains   \n",
       "10  Reduce GPU costs with startup scripts on the G...   \n",
       "11           Approaching fairness in machine learning   \n",
       "12                   Illustrated Guide to ROC and AUC   \n",
       "13           The Softmax Function Derivative (Part 3)   \n",
       "14  Optimization of Scientific Code with Cython: I...   \n",
       "15  TODOs for Effective ML teamwork at an early-st...   \n",
       "16               Analyzing Housing Prices in Berkeley   \n",
       "17   Gradient descent learns linear dynamical systems   \n",
       "18                              writing | trey causey   \n",
       "19  The Waiting Time Paradox, or, Why Is My Bus Al...   \n",
       "\n",
       "                                              content  word_count  polarity  \\\n",
       "0   William Lyon / September 29, 202110 min read •...        1764 -0.106045   \n",
       "1               This tutorial will introduce vario...        1698  0.067014   \n",
       "2    Someone famous once said that if you click on...        2201  0.074672   \n",
       "3    Hiring data scientists  Back to writing   202...        2284  0.139745   \n",
       "4   William Lyon / July 20, 202111 min read • When...        1846  0.153225   \n",
       "5    I just returned from NIPS 2015, a joyful week...        1724  0.088070   \n",
       "6    September 5, 2019 · Python tutorial Below you...        4031  0.112285   \n",
       "7      Mon 18 December 2017   Edit 12/19/2017: add...        5035  0.015709   \n",
       "8    Abstract: Data is the new media. Thus the pos...        2864  0.092194   \n",
       "9    I’m not sure if you guys will remember this, ...        2005  0.051639   \n",
       "10    This post is about leveraging on demand capa...        2022  0.122718   \n",
       "11   As machine learning increasingly affects doma...        1179  0.045305   \n",
       "12  (In a past job interview I failed at explainin...        1622  0.019617   \n",
       "13   Previously I’ve shown how to work out the der...        1034 -0.069071   \n",
       "14     Mon 11 December 2017    Python is quick and...        1163  0.146825   \n",
       "15  Oct 1, 2022 - 7  read Generated by Midjourner ...        2630  0.128617   \n",
       "16   This project was done with Yika Luo and Shash...        2473  0.099281   \n",
       "17   Cross-posted at offconvex.org. From text tran...        1926  0.062146   \n",
       "18   Software development skills for data scientis...        2378  0.144574   \n",
       "19    Image Source: Wikipedia License CC-BY-SA 3.0...        3273  0.064687   \n",
       "\n",
       "    subjectivity  \n",
       "0       0.546654  \n",
       "1       0.400341  \n",
       "2       0.493033  \n",
       "3       0.474933  \n",
       "4       0.362908  \n",
       "5       0.488368  \n",
       "6       0.408070  \n",
       "7       0.431921  \n",
       "8       0.458740  \n",
       "9       0.540245  \n",
       "10      0.432649  \n",
       "11      0.473254  \n",
       "12      0.480755  \n",
       "13      0.371108  \n",
       "14      0.551905  \n",
       "15      0.529179  \n",
       "16      0.453941  \n",
       "17      0.457498  \n",
       "18      0.467050  \n",
       "19      0.395443  "
      ]
     },
     "execution_count": 28,
     "metadata": {},
     "output_type": "execute_result"
    }
   ],
   "source": [
    "data_frame.head(20)"
   ]
  },
  {
   "cell_type": "markdown",
   "metadata": {},
   "source": [
    "### FineGrain look at the content"
   ]
  },
  {
   "cell_type": "code",
   "execution_count": null,
   "metadata": {},
   "outputs": [],
   "source": [
    "data_frame.iloc[12]"
   ]
  },
  {
   "cell_type": "code",
   "execution_count": null,
   "metadata": {},
   "outputs": [],
   "source": [
    "data_frame['content'].iloc[12]"
   ]
  },
  {
   "cell_type": "code",
   "execution_count": 39,
   "metadata": {},
   "outputs": [
    {
     "data": {
      "image/png": "[encoded data removed]",
      "text/plain": [
       "<Figure size 432x288 with 1 Axes>"
      ]
     },
     "metadata": {
      "needs_background": "light"
     },
     "output_type": "display_data"
    }
   ],
   "source": [
    "# examine the relationship between polarity and word_count, if any\n",
    "chart = data_frame.plot(kind='scatter',x='word_count',y='polarity')"
   ]
  },
  {
   "cell_type": "code",
   "execution_count": 55,
   "metadata": {},
   "outputs": [
    {
     "name": "stdout",
     "output_type": "stream",
     "text": [
      "The range of polarity for the given articles is: 0.04717963040543682\n"
     ]
    }
   ],
   "source": [
    "# getting more information on the range found\n",
    "maxdf = data_frame[data_frame['polarity']==data_frame['polarity'].max()]\n",
    "mindf = data_frame[data_frame['polarity']==data_frame['polarity'].min()]\n",
    "print(\"The range of polarity for the given articles is: \" + str(maxdf.iloc[0]['polarity'] + mindf.iloc[0]['polarity']))"
   ]
  },
  {
   "cell_type": "code",
   "execution_count": 56,
   "metadata": {},
   "outputs": [
    {
     "name": "stdout",
     "output_type": "stream",
     "text": [
      "['Adaptive data analysis', 'Analyzing Housing Prices in Berkeley', 'Approaching fairness in machine learning', 'Gradient descent learns linear dynamical systems', 'Graph Data Visualization With GraphQL & react-force-graph', 'Illustrated Guide to ROC and AUC', 'LOCF and Linear Imputation with PostgreSQL', 'Master Python`s pandas library with these 100 tricks', 'Mimicking Writing Style With Markov Chains', 'No Cost Data Scraping With GitHub Actions And Neo4j Aura', 'Optimization of Scientific Code with Cython: Ising Model', 'Recommending Subreddits by Computing User Similarity: An Introduction to Machine Learning in Python', 'Reduce GPU costs with startup scripts on the Google Cloud Engine', 'Simulating Chutes & Ladders in Python', 'Slow Data', 'TODOs for Effective ML teamwork at an early-stage startup', 'The Softmax Function Derivative (Part\\xa03)', 'The Waiting Time Paradox, or, Why Is My Bus Always Late?', 'Thoughts on Trace Estimation in Deep Learning - Sebastian Nowozins slow blog', 'YourTTS - Swiss knife for Text-to-Speech', 'writing', 'writing | trey causey']\n"
     ]
    }
   ],
   "source": [
    "set_of_articles = data_frame['title'].unique()\n",
    "print(sorted(set_of_articles))"
   ]
  },
  {
   "cell_type": "code",
   "execution_count": null,
   "metadata": {},
   "outputs": [],
   "source": []
  }
 ],
 "metadata": {
  "kernelspec": {
   "display_name": "Python 3.8.10 64-bit",
   "language": "python",
   "name": "python3"
  },
  "language_info": {
   "codemirror_mode": {
    "name": "ipython",
    "version": 3
   },
   "file_extension": ".py",
   "mimetype": "text/x-python",
   "name": "python",
   "nbconvert_exporter": "python",
   "pygments_lexer": "ipython3",
   "version": "3.8.10"
  },
  "orig_nbformat": 4,
  "vscode": {
   "interpreter": {
    "hash": "916dbcbb3f70747c44a77c7bcd40155683ae19c65e1c03b4aa3499c5328201f1"
   }
  }
 },
 "nbformat": 4,
 "nbformat_minor": 2
}
