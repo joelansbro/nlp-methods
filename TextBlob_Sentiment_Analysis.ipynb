{
 "cells": [
  {
   "cell_type": "code",
   "execution_count": 2,
   "metadata": {},
   "outputs": [],
   "source": [
    "import spacy\n",
    "import pandas as pd\n",
    "from spacytextblob.spacytextblob import SpacyTextBlob"
   ]
  },
  {
   "cell_type": "markdown",
   "metadata": {},
   "source": [
    "## Sentiment Analysis\n",
    "5/11/2022\n",
    "Running down several blog articles in order to judge their sentiment\n",
    "\n",
    "Schema for test is: title, content, polarity, subjectivity"
   ]
  },
  {
   "cell_type": "code",
   "execution_count": 3,
   "metadata": {},
   "outputs": [
    {
     "data": {
      "text/plain": [
       "<spacytextblob.spacytextblob.SpacyTextBlob at 0x7f2dddc24e80>"
      ]
     },
     "execution_count": 3,
     "metadata": {},
     "output_type": "execute_result"
    }
   ],
   "source": [
    "nlp = spacy.load(\"en_core_web_sm\")\n",
    "nlp.add_pipe(\"spacytextblob\")"
   ]
  },
  {
   "cell_type": "code",
   "execution_count": 4,
   "metadata": {},
   "outputs": [],
   "source": [
    "data_frame = pd.read_csv('./data/dataset.csv')"
   ]
  },
  {
   "cell_type": "code",
   "execution_count": 5,
   "metadata": {},
   "outputs": [],
   "source": [
    "def sentiment_analysis(value):\n",
    "    \"\"\"Runs the NLP model over each row's content field to interpet the article sentiment.\n",
    "\n",
    "    Input - pd.DataFrame.row\n",
    "\n",
    "    Output\n",
    "          - article polarity: Float\n",
    "          - article subjectivity: Float  \n",
    "    \"\"\"\n",
    "    if value['content']:\n",
    "        text_data = value['content']\n",
    "        doc = nlp(text_data)\n",
    "        return pd.Series([doc._.blob.polarity, doc._.blob.subjectivity])\n",
    "    else:\n",
    "        return \"N/A\", \"N/A\""
   ]
  },
  {
   "cell_type": "code",
   "execution_count": 6,
   "metadata": {},
   "outputs": [],
   "source": [
    "data_frame[['polarity','subjectivity']] = data_frame.apply(lambda row,: sentiment_analysis(row), axis=1)"
   ]
  },
  {
   "cell_type": "code",
   "execution_count": 19,
   "metadata": {},
   "outputs": [
    {
     "data": {
      "text/html": [
       "<div>\n",
       "<style scoped>\n",
       "    .dataframe tbody tr th:only-of-type {\n",
       "        vertical-align: middle;\n",
       "    }\n",
       "\n",
       "    .dataframe tbody tr th {\n",
       "        vertical-align: top;\n",
       "    }\n",
       "\n",
       "    .dataframe thead th {\n",
       "        text-align: right;\n",
       "    }\n",
       "</style>\n",
       "<table border=\"1\" class=\"dataframe\">\n",
       "  <thead>\n",
       "    <tr style=\"text-align: right;\">\n",
       "      <th></th>\n",
       "      <th>title</th>\n",
       "      <th>content</th>\n",
       "      <th>polarity</th>\n",
       "      <th>subjectivity</th>\n",
       "    </tr>\n",
       "  </thead>\n",
       "  <tbody>\n",
       "    <tr>\n",
       "      <th>0</th>\n",
       "      <td>Interview: Ashok Reddy, Chief Executive Office...</td>\n",
       "      <td>October 4, 2022 by Editorial Team tweet  share...</td>\n",
       "      <td>0.226506</td>\n",
       "      <td>0.500548</td>\n",
       "    </tr>\n",
       "    <tr>\n",
       "      <th>1</th>\n",
       "      <td>Fighting Data Silos with Data Literacy and Tra...</td>\n",
       "      <td>tweet  share share  share  email  In this spec...</td>\n",
       "      <td>0.164681</td>\n",
       "      <td>0.433611</td>\n",
       "    </tr>\n",
       "    <tr>\n",
       "      <th>2</th>\n",
       "      <td>Informatica Data Quality review</td>\n",
       "      <td>Image: peopleimages.com/Adobe StockData quali...</td>\n",
       "      <td>0.258294</td>\n",
       "      <td>0.424806</td>\n",
       "    </tr>\n",
       "    <tr>\n",
       "      <th>3</th>\n",
       "      <td>How to Migrate Your Data and AI Workloads to D...</td>\n",
       "      <td>In this blog we define the process for earning...</td>\n",
       "      <td>0.158770</td>\n",
       "      <td>0.444253</td>\n",
       "    </tr>\n",
       "    <tr>\n",
       "      <th>4</th>\n",
       "      <td>The Metaverse Will Be Built on Big Data and Us...</td>\n",
       "      <td>The smart city of cyberspace and metaverse dig...</td>\n",
       "      <td>0.172756</td>\n",
       "      <td>0.477043</td>\n",
       "    </tr>\n",
       "    <tr>\n",
       "      <th>5</th>\n",
       "      <td>Cloudera Recognized as 2022 Gartner® Peer Insi...</td>\n",
       "      <td>We are excited to announce that Cloudera is n...</td>\n",
       "      <td>0.197535</td>\n",
       "      <td>0.424829</td>\n",
       "    </tr>\n",
       "    <tr>\n",
       "      <th>6</th>\n",
       "      <td>New Flink Startup Immerok Gets Off the Ground</td>\n",
       "      <td>There’s a new startup dedicated to making a b...</td>\n",
       "      <td>0.118393</td>\n",
       "      <td>0.428790</td>\n",
       "    </tr>\n",
       "    <tr>\n",
       "      <th>7</th>\n",
       "      <td>PlanetScale announces new database analysis an...</td>\n",
       "      <td>Learn how your company can create application...</td>\n",
       "      <td>0.158839</td>\n",
       "      <td>0.426568</td>\n",
       "    </tr>\n",
       "    <tr>\n",
       "      <th>8</th>\n",
       "      <td>Dis-aggregated hardware</td>\n",
       "      <td>This post focuses on dis-aggregated hardware...</td>\n",
       "      <td>0.107720</td>\n",
       "      <td>0.391455</td>\n",
       "    </tr>\n",
       "    <tr>\n",
       "      <th>9</th>\n",
       "      <td>What does a data modeler do?</td>\n",
       "      <td>Image: Leonid/Adobe StockDatabases are centra...</td>\n",
       "      <td>0.151724</td>\n",
       "      <td>0.421982</td>\n",
       "    </tr>\n",
       "    <tr>\n",
       "      <th>10</th>\n",
       "      <td>Arcadia aggregates energy data for companies t...</td>\n",
       "      <td>Learn how your company can create application...</td>\n",
       "      <td>0.145557</td>\n",
       "      <td>0.383228</td>\n",
       "    </tr>\n",
       "    <tr>\n",
       "      <th>11</th>\n",
       "      <td>Top 10 Easy Data Analysis Methods and Techniques</td>\n",
       "      <td>Companies are trying to keep up with the di...</td>\n",
       "      <td>0.131143</td>\n",
       "      <td>0.428317</td>\n",
       "    </tr>\n",
       "    <tr>\n",
       "      <th>12</th>\n",
       "      <td>The future of data architecture is hybrid: cho...</td>\n",
       "      <td>With all of the buzz around cloud computing, ...</td>\n",
       "      <td>0.207147</td>\n",
       "      <td>0.444745</td>\n",
       "    </tr>\n",
       "    <tr>\n",
       "      <th>13</th>\n",
       "      <td>test title</td>\n",
       "      <td>This is bad. really really bad. Not good.</td>\n",
       "      <td>-0.583333</td>\n",
       "      <td>0.644444</td>\n",
       "    </tr>\n",
       "  </tbody>\n",
       "</table>\n",
       "</div>"
      ],
      "text/plain": [
       "                                                title  \\\n",
       "0   Interview: Ashok Reddy, Chief Executive Office...   \n",
       "1   Fighting Data Silos with Data Literacy and Tra...   \n",
       "2                     Informatica Data Quality review   \n",
       "3   How to Migrate Your Data and AI Workloads to D...   \n",
       "4   The Metaverse Will Be Built on Big Data and Us...   \n",
       "5   Cloudera Recognized as 2022 Gartner® Peer Insi...   \n",
       "6       New Flink Startup Immerok Gets Off the Ground   \n",
       "7   PlanetScale announces new database analysis an...   \n",
       "8                             Dis-aggregated hardware   \n",
       "9                        What does a data modeler do?   \n",
       "10  Arcadia aggregates energy data for companies t...   \n",
       "11   Top 10 Easy Data Analysis Methods and Techniques   \n",
       "12  The future of data architecture is hybrid: cho...   \n",
       "13                                         test title   \n",
       "\n",
       "                                              content  polarity  subjectivity  \n",
       "0   October 4, 2022 by Editorial Team tweet  share...  0.226506      0.500548  \n",
       "1   tweet  share share  share  email  In this spec...  0.164681      0.433611  \n",
       "2    Image: peopleimages.com/Adobe StockData quali...  0.258294      0.424806  \n",
       "3   In this blog we define the process for earning...  0.158770      0.444253  \n",
       "4   The smart city of cyberspace and metaverse dig...  0.172756      0.477043  \n",
       "5    We are excited to announce that Cloudera is n...  0.197535      0.424829  \n",
       "6    There’s a new startup dedicated to making a b...  0.118393      0.428790  \n",
       "7    Learn how your company can create application...  0.158839      0.426568  \n",
       "8     This post focuses on dis-aggregated hardware...  0.107720      0.391455  \n",
       "9    Image: Leonid/Adobe StockDatabases are centra...  0.151724      0.421982  \n",
       "10   Learn how your company can create application...  0.145557      0.383228  \n",
       "11     Companies are trying to keep up with the di...  0.131143      0.428317  \n",
       "12   With all of the buzz around cloud computing, ...  0.207147      0.444745  \n",
       "13          This is bad. really really bad. Not good. -0.583333      0.644444  "
      ]
     },
     "execution_count": 19,
     "metadata": {},
     "output_type": "execute_result"
    }
   ],
   "source": [
    "data_frame.head(20)"
   ]
  },
  {
   "cell_type": "markdown",
   "metadata": {},
   "source": [
    "### FineGrain look at the content"
   ]
  },
  {
   "cell_type": "code",
   "execution_count": 20,
   "metadata": {},
   "outputs": [
    {
     "data": {
      "text/plain": [
       "title           The future of data architecture is hybrid: cho...\n",
       "content          With all of the buzz around cloud computing, ...\n",
       "polarity                                                 0.207147\n",
       "subjectivity                                             0.444745\n",
       "Name: 12, dtype: object"
      ]
     },
     "execution_count": 20,
     "metadata": {},
     "output_type": "execute_result"
    }
   ],
   "source": [
    "data_frame.iloc[12]"
   ]
  },
  {
   "cell_type": "code",
   "execution_count": 21,
   "metadata": {},
   "outputs": [
    {
     "data": {
      "text/plain": [
       "' With all of the buzz around cloud computing, many companies have overlooked the importance of hybrid data. Many large enterprises went all-in on cloud without considering the costs and potential risks associated with a cloud-only approach. The truth is, the future of data architecture is all about hybrid. Hybrid data capabilities enable organizations to collect and store information on premises, in public or private clouds, and at the edge—without sacrificing the important analytics needed to turn that information into insight. Organizations can make decisions about where to store their data in the most cost effective and secure manner, while still using that data for mission-critical operations day to day.\\xa0\\xa0As a leader in hybrid data, Cloudera is positioned to help organizations take on the challenge of managing and analyzing data wherever it resides. That’s why the theme for this year’s Cloudera Now, our flagship event on our latest and greatest innovations, is Think Bigger, Move Faster, Go Hybrid. We recognize the importance of a hybrid data strategy and having a secure, scalable data platform to support that. Attend Cloudera Now to jumpstart the data-driven future.For every business, these past few years have presented unforeseen challenges, and traditional data architectures have fallen short of providing the ease and agility that users across an organization need. We’ve seen this from all of our customers and are emphasizing building and iterating on modern data architectures. We can help companies build an effective strategy for data fabric, data mesh, and data lakehouse, but with the Cloudera spin: ensuring they can take full advantage of the possibilities hybrid data offers. When built with Cloudera Data Platform (CDP),\\xa0 these architectures are open, interoperable, portable, and secure. With Cloudera data infrastructure is built to scale, with security and portability across clouds and on premises. By prioritizing scalability, Cloudera customers are ready for whatever comes next, whether that’s new customer requirements, new market opportunities, or any other outside pressure, be it economic, geopolitical, regulatory, social, or otherwise.\\xa0Modern data architectures usher in a new decade for dataNew data architectures and paradigms can help to transform business and lay the groundwork for success today and for the next decade. The data landscape is being disrupted by the data lakehouse and data fabric concepts. Cloudera is ready to help companies supercharge their data strategy by implementing these new architectures. Let’s not short change the buzz around the emerging topic of data mesh. Right now, business leaders have a lot of questions around all of this: Why do we need modern data architecture? How can I effectively implement modern data architectures? Do we need more than one? If so, which should I invest in first? Which will make the biggest impact on my business?\\xa0If you are a data leader asking these questions, you’re not alone. And if you attend Cloudera Now we’ll be answering these questions and more—make sure to join usOpen source opens doors of opportunityCloudera is also returning to our roots in open source solutions, enabling our customers to deliver greater agility and accelerate time to market. We recently announced the industry’s only open data lakehouse, based on Apache Iceberg. This not only enables analytics at a massive scale (we’re talking petabytes worth of information), but it works in a fully hybrid capacity. Using the open data lakehouse, companies can apply analytics on streaming data at the edge and stored data across multiple clouds and on premises. And because it’s open, users can access and analyze all the company’s data everywhere, and each team can use the analytic tools of their choice.\\xa0Apache Iceberg enables organizations to store very large analytical tables in a standards-based, open-source format, while being able to access them with a standard language. One of the best parts is the open data lakehouse doesn’t just offer the analytic capability needed today with freedom of choice for analytics; it also offers unlimited analytic flexibility for the future.Cloudera Now: join us live for a big announcement!Cloudera Now 2022 is a must-attend event for existing Cloudera customers and any business or technical professionals seriously considering how to make the most of their data. We’re unveiling one of our latest innovations that will help customers to deploy a data and analytics platform easier than ever before. With keynotes from Cloudera experts, new product launches, in-depth demos, customer use cases, and breakout sessions on how to get the best advantage of modern data architectures, Cloudera Now has something for everyone.\\xa0Register today\\xa0\\xa0 '"
      ]
     },
     "execution_count": 21,
     "metadata": {},
     "output_type": "execute_result"
    }
   ],
   "source": [
    "data_frame['content'].iloc[12]"
   ]
  },
  {
   "cell_type": "code",
   "execution_count": null,
   "metadata": {},
   "outputs": [],
   "source": []
  }
 ],
 "metadata": {
  "kernelspec": {
   "display_name": "Python 3.8.10 64-bit",
   "language": "python",
   "name": "python3"
  },
  "language_info": {
   "codemirror_mode": {
    "name": "ipython",
    "version": 3
   },
   "file_extension": ".py",
   "mimetype": "text/x-python",
   "name": "python",
   "nbconvert_exporter": "python",
   "pygments_lexer": "ipython3",
   "version": "3.8.10"
  },
  "orig_nbformat": 4,
  "vscode": {
   "interpreter": {
    "hash": "916dbcbb3f70747c44a77c7bcd40155683ae19c65e1c03b4aa3499c5328201f1"
   }
  }
 },
 "nbformat": 4,
 "nbformat_minor": 2
}
