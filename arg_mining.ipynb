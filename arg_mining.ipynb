{
 "cells": [
  {
   "cell_type": "markdown",
   "metadata": {},
   "source": [
    "# Argument Mining\n",
    "This notebook is using the spacy_arguing_lexicon python package which is a spacy extension using the [MPQA arguing lexicon](http://mpqa.cs.pitt.edu/lexicons/arg_lexicon/)\n",
    "These are the specific terms that are identified within the arguments, based on the above:\n",
    " - Assessments\n",
    " - Authority\n",
    " - Conditional\n",
    " - Contrast\n",
    " - Doubt\n",
    " - Emphasis\n",
    " - Generalisation\n",
    " - inyourshoes\n",
    " - inconsistency\n",
    " - necessity\n",
    " - possibility\n",
    " - priority\n",
    " - rhetorical_question\n",
    " - wants\n",
    " - difficulty\n",
    " \n",
    " For more detail look here: https://github.com/fako/spacy_arguing_lexicon/blob/master/spacy_arguing_lexicon/lexicon/README%20for%20Arguing%20Lexicon.pdf"
   ]
  },
  {
   "cell_type": "code",
   "execution_count": 1,
   "metadata": {},
   "outputs": [],
   "source": [
    "import spacy\n",
    "from spacy_arguing_lexicon import ArguingLexiconParser\n",
    "from spacy.language import Language"
   ]
  },
  {
   "cell_type": "code",
   "execution_count": 2,
   "metadata": {},
   "outputs": [],
   "source": [
    "nlp = spacy.load(\"en_core_web_sm\")"
   ]
  },
  {
   "cell_type": "code",
   "execution_count": 3,
   "metadata": {},
   "outputs": [],
   "source": [
    "@Language.factory('ArguingLexiconParser', default_config={\"lang\":nlp.lang})\n",
    "\n",
    "def CreateArguingLexiconParser(nlp, name, lang):\n",
    "    return ArguingLexiconParser()"
   ]
  },
  {
   "cell_type": "code",
   "execution_count": 4,
   "metadata": {},
   "outputs": [
    {
     "data": {
      "text/plain": [
       "<spacy_arguing_lexicon.parsers.ArguingLexiconParser at 0x2343db80760>"
      ]
     },
     "execution_count": 4,
     "metadata": {},
     "output_type": "execute_result"
    }
   ],
   "source": [
    "nlp.add_pipe('ArguingLexiconParser')"
   ]
  },
  {
   "cell_type": "code",
   "execution_count": 92,
   "metadata": {},
   "outputs": [],
   "source": [
    "contents = (\"\"\"\n",
    "    I'm going to start writing some text. The purpose is to try and present a blog for testing. What is it testing, you ask? Why I'm trying to see if I can pick up on any elements of arguments in the text. According to the IEEE, test-driven development requires a good level of testing. It should be easy to see why. Tests allow us to ensure that our code works as intended. Don't believe me? You will find out when your next code goes haywire. I believe the text should pick up some of these sentences as arguments, because I have included some words that lend themselves to argumentation.\n",
    "\"\"\")"
   ]
  },
  {
   "cell_type": "code",
   "execution_count": 93,
   "metadata": {},
   "outputs": [],
   "source": [
    "sentences = contents.split(\".\")"
   ]
  },
  {
   "cell_type": "code",
   "execution_count": 94,
   "metadata": {},
   "outputs": [
    {
     "name": "stdout",
     "output_type": "stream",
     "text": [
      "\n",
      "    I'm going to start writing some text\n",
      " The purpose is to try and present a blog for testing\n",
      " What is it testing, you ask? Why I'm trying to see if I can pick up on any elements of arguments in the text\n",
      " According to the IEEE, test-driven development requires a good level of testing\n",
      " It should be easy to see why\n",
      " Tests allow us to ensure that our code works as intended\n",
      " Don't believe me? You will find out when your next code goes haywire\n",
      " I believe the text should pick up some of these sentences as arguments, because I have included some words that lend themselves to argumentation\n",
      "\n",
      "\n"
     ]
    }
   ],
   "source": [
    "for sentence in sentences:\n",
    "    print(sentence)"
   ]
  },
  {
   "cell_type": "code",
   "execution_count": 97,
   "metadata": {},
   "outputs": [
    {
     "name": "stdout",
     "output_type": "stream",
     "text": [
      "******************\n",
      "\n",
      "    I'm going to start writing some text\n",
      "Argument lexicon: 'm going to\n",
      "Label of lexicon: emphasis\n",
      "Sentence where lexicon occurs: I'm going to start writing some text\n",
      "******************\n",
      " The purpose is to try and present a blog for testing\n",
      "No argument found in sentence\n",
      "******************\n",
      " What is it testing, you ask? Why I'm trying to see if I can pick up on any elements of arguments in the text\n",
      "No argument found in sentence\n",
      "******************\n",
      " According to the IEEE, test-driven development requires a good level of testing\n",
      "Argument lexicon: According to\n",
      "Label of lexicon: authority\n",
      "Sentence where lexicon occurs: According to the IEEE, test-driven development requires a good level of testing\n",
      "******************\n",
      " It should be easy to see why\n",
      "Argument lexicon: be easy\n",
      "Label of lexicon: difficulty\n",
      "Sentence where lexicon occurs: It should be easy to see why\n",
      "******************\n",
      " Tests allow us to ensure that our code works as intended\n",
      "No argument found in sentence\n",
      "******************\n",
      " Don't believe me? You will find out when your next code goes haywire\n",
      "No argument found in sentence\n",
      "******************\n",
      " I believe the text should pick up some of these sentences as arguments, because I have included some words that lend themselves to argumentation\n",
      "Argument lexicon: because\n",
      "Label of lexicon: causation\n",
      "Sentence where lexicon occurs: I believe the text should pick up some of these sentences as arguments, because I have included some words that lend themselves to argumentation\n",
      "******************\n",
      "\n",
      "\n",
      "No argument found in sentence\n",
      "continuing here as proof that we've been able to break out of the loop without exiting the program.\n"
     ]
    }
   ],
   "source": [
    "for sentence in sentences:\n",
    "    try:\n",
    "        print(\"******************\")\n",
    "        print(sentence)\n",
    "        doc = nlp(sentence)\n",
    "        argument_span = next(doc._.arguments.get_argument_spans())\n",
    "        print(\"Argument lexicon:\", argument_span.text)\n",
    "        print(\"Label of lexicon:\", argument_span.label_)\n",
    "        print(\"Sentence where lexicon occurs:\", argument_span.sent.text.strip())\n",
    "    except StopIteration:\n",
    "        # With the above call, if no argument is found, the loop keeps on looping. When python finds this we can continue.\n",
    "        print(\"No argument found in sentence\")\n",
    "        continue\n",
    "\n",
    "print(\"continuing here as proof that we've been able to break out of the loop without exiting the program.\")\n",
    "    "
   ]
  }
 ],
 "metadata": {
  "interpreter": {
   "hash": "842fbf2151771c5fab737f7e91cae4a6b3fd587e0ef9c8eecff0f9eb53e93c36"
  },
  "kernelspec": {
   "display_name": "Python 3.10.1 64-bit",
   "language": "python",
   "name": "python3"
  },
  "language_info": {
   "codemirror_mode": {
    "name": "ipython",
    "version": 3
   },
   "file_extension": ".py",
   "mimetype": "text/x-python",
   "name": "python",
   "nbconvert_exporter": "python",
   "pygments_lexer": "ipython3",
   "version": "3.10.1"
  },
  "orig_nbformat": 4
 },
 "nbformat": 4,
 "nbformat_minor": 2
}
