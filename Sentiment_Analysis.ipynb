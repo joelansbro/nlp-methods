{
 "cells": [
  {
   "cell_type": "code",
   "execution_count": 50,
   "metadata": {},
   "outputs": [],
   "source": [
    "import spacy\n",
    "import pandas as pd\n",
    "from spacytextblob.spacytextblob import SpacyTextBlob"
   ]
  },
  {
   "cell_type": "markdown",
   "metadata": {},
   "source": [
    "## Sentiment Analysis\n",
    "5/11/2022\n",
    "Running down several blog articles in order to judge their sentiment\n",
    "\n",
    "Schema for test is: title, content, polarity, subjectivity"
   ]
  },
  {
   "cell_type": "code",
   "execution_count": 51,
   "metadata": {},
   "outputs": [
    {
     "data": {
      "text/plain": [
       "<spacytextblob.spacytextblob.SpacyTextBlob at 0x7fead0bd9df0>"
      ]
     },
     "execution_count": 51,
     "metadata": {},
     "output_type": "execute_result"
    }
   ],
   "source": [
    "nlp = spacy.load(\"en_core_web_sm\")\n",
    "nlp.add_pipe(\"spacytextblob\")"
   ]
  },
  {
   "cell_type": "code",
   "execution_count": 80,
   "metadata": {},
   "outputs": [],
   "source": [
    "data_frame = pd.read_csv('./data/dataset.csv')"
   ]
  },
  {
   "cell_type": "code",
   "execution_count": 76,
   "metadata": {},
   "outputs": [],
   "source": [
    "def sentiment_analysis(value):\n",
    "    \"\"\"Runs the NLP model over each row's content field to interpet the article sentiment.\n",
    "\n",
    "    Input - pd.DataFrame.row\n",
    "\n",
    "    Output\n",
    "          - article polarity: Float\n",
    "          - article subjectivity: Float  \n",
    "    \"\"\"\n",
    "    if value['content']:\n",
    "        text_data = value['content']\n",
    "        doc = nlp(text_data)\n",
    "        return pd.Series([doc._.blob.polarity, doc._.blob.subjectivity])\n",
    "    else:\n",
    "        return \"N/A\", \"N/A\""
   ]
  },
  {
   "cell_type": "code",
   "execution_count": 83,
   "metadata": {},
   "outputs": [],
   "source": [
    "data_frame[['polarity','subjectivity']] = data_frame.apply(lambda row,: sentiment_analysis(row), axis=1)"
   ]
  },
  {
   "cell_type": "code",
   "execution_count": 84,
   "metadata": {},
   "outputs": [
    {
     "data": {
      "text/html": [
       "<div>\n",
       "<style scoped>\n",
       "    .dataframe tbody tr th:only-of-type {\n",
       "        vertical-align: middle;\n",
       "    }\n",
       "\n",
       "    .dataframe tbody tr th {\n",
       "        vertical-align: top;\n",
       "    }\n",
       "\n",
       "    .dataframe thead th {\n",
       "        text-align: right;\n",
       "    }\n",
       "</style>\n",
       "<table border=\"1\" class=\"dataframe\">\n",
       "  <thead>\n",
       "    <tr style=\"text-align: right;\">\n",
       "      <th></th>\n",
       "      <th>title</th>\n",
       "      <th>content</th>\n",
       "      <th>polarity</th>\n",
       "      <th>subjectivity</th>\n",
       "    </tr>\n",
       "  </thead>\n",
       "  <tbody>\n",
       "    <tr>\n",
       "      <th>0</th>\n",
       "      <td>Interview: Ashok Reddy, Chief Executive Office...</td>\n",
       "      <td>October 4, 2022 by Editorial Team tweet  share...</td>\n",
       "      <td>0.226506</td>\n",
       "      <td>0.500548</td>\n",
       "    </tr>\n",
       "    <tr>\n",
       "      <th>1</th>\n",
       "      <td>Fighting Data Silos with Data Literacy and Tra...</td>\n",
       "      <td>tweet  share share  share  email  In this spec...</td>\n",
       "      <td>0.164681</td>\n",
       "      <td>0.433611</td>\n",
       "    </tr>\n",
       "    <tr>\n",
       "      <th>2</th>\n",
       "      <td>Informatica Data Quality review</td>\n",
       "      <td>Image: peopleimages.com/Adobe StockData quali...</td>\n",
       "      <td>0.258294</td>\n",
       "      <td>0.424806</td>\n",
       "    </tr>\n",
       "    <tr>\n",
       "      <th>3</th>\n",
       "      <td>How to Migrate Your Data and AI Workloads to D...</td>\n",
       "      <td>In this blog we define the process for earning...</td>\n",
       "      <td>0.158770</td>\n",
       "      <td>0.444253</td>\n",
       "    </tr>\n",
       "    <tr>\n",
       "      <th>4</th>\n",
       "      <td>The Metaverse Will Be Built on Big Data and Us...</td>\n",
       "      <td>The smart city of cyberspace and metaverse dig...</td>\n",
       "      <td>0.172756</td>\n",
       "      <td>0.477043</td>\n",
       "    </tr>\n",
       "    <tr>\n",
       "      <th>5</th>\n",
       "      <td>Cloudera Recognized as 2022 Gartner® Peer Insi...</td>\n",
       "      <td>We are excited to announce that Cloudera is n...</td>\n",
       "      <td>0.197535</td>\n",
       "      <td>0.424829</td>\n",
       "    </tr>\n",
       "    <tr>\n",
       "      <th>6</th>\n",
       "      <td>New Flink Startup Immerok Gets Off the Ground</td>\n",
       "      <td>There’s a new startup dedicated to making a b...</td>\n",
       "      <td>0.118393</td>\n",
       "      <td>0.428790</td>\n",
       "    </tr>\n",
       "    <tr>\n",
       "      <th>7</th>\n",
       "      <td>PlanetScale announces new database analysis an...</td>\n",
       "      <td>Learn how your company can create application...</td>\n",
       "      <td>0.158839</td>\n",
       "      <td>0.426568</td>\n",
       "    </tr>\n",
       "    <tr>\n",
       "      <th>8</th>\n",
       "      <td>Dis-aggregated hardware</td>\n",
       "      <td>This post focuses on dis-aggregated hardware...</td>\n",
       "      <td>0.107720</td>\n",
       "      <td>0.391455</td>\n",
       "    </tr>\n",
       "    <tr>\n",
       "      <th>9</th>\n",
       "      <td>What does a data modeler do?</td>\n",
       "      <td>Image: Leonid/Adobe StockDatabases are centra...</td>\n",
       "      <td>0.151724</td>\n",
       "      <td>0.421982</td>\n",
       "    </tr>\n",
       "    <tr>\n",
       "      <th>10</th>\n",
       "      <td>Arcadia aggregates energy data for companies t...</td>\n",
       "      <td>Learn how your company can create application...</td>\n",
       "      <td>0.145557</td>\n",
       "      <td>0.383228</td>\n",
       "    </tr>\n",
       "    <tr>\n",
       "      <th>11</th>\n",
       "      <td>Top 10 Easy Data Analysis Methods and Techniques</td>\n",
       "      <td>Companies are trying to keep up with the di...</td>\n",
       "      <td>0.131143</td>\n",
       "      <td>0.428317</td>\n",
       "    </tr>\n",
       "  </tbody>\n",
       "</table>\n",
       "</div>"
      ],
      "text/plain": [
       "                                                title  \\\n",
       "0   Interview: Ashok Reddy, Chief Executive Office...   \n",
       "1   Fighting Data Silos with Data Literacy and Tra...   \n",
       "2                     Informatica Data Quality review   \n",
       "3   How to Migrate Your Data and AI Workloads to D...   \n",
       "4   The Metaverse Will Be Built on Big Data and Us...   \n",
       "5   Cloudera Recognized as 2022 Gartner® Peer Insi...   \n",
       "6       New Flink Startup Immerok Gets Off the Ground   \n",
       "7   PlanetScale announces new database analysis an...   \n",
       "8                             Dis-aggregated hardware   \n",
       "9                        What does a data modeler do?   \n",
       "10  Arcadia aggregates energy data for companies t...   \n",
       "11   Top 10 Easy Data Analysis Methods and Techniques   \n",
       "\n",
       "                                              content  polarity  subjectivity  \n",
       "0   October 4, 2022 by Editorial Team tweet  share...  0.226506      0.500548  \n",
       "1   tweet  share share  share  email  In this spec...  0.164681      0.433611  \n",
       "2    Image: peopleimages.com/Adobe StockData quali...  0.258294      0.424806  \n",
       "3   In this blog we define the process for earning...  0.158770      0.444253  \n",
       "4   The smart city of cyberspace and metaverse dig...  0.172756      0.477043  \n",
       "5    We are excited to announce that Cloudera is n...  0.197535      0.424829  \n",
       "6    There’s a new startup dedicated to making a b...  0.118393      0.428790  \n",
       "7    Learn how your company can create application...  0.158839      0.426568  \n",
       "8     This post focuses on dis-aggregated hardware...  0.107720      0.391455  \n",
       "9    Image: Leonid/Adobe StockDatabases are centra...  0.151724      0.421982  \n",
       "10   Learn how your company can create application...  0.145557      0.383228  \n",
       "11     Companies are trying to keep up with the di...  0.131143      0.428317  "
      ]
     },
     "execution_count": 84,
     "metadata": {},
     "output_type": "execute_result"
    }
   ],
   "source": [
    "data_frame.head(12)"
   ]
  },
  {
   "cell_type": "markdown",
   "metadata": {},
   "source": [
    "### FineGrain look at the content"
   ]
  },
  {
   "cell_type": "code",
   "execution_count": 87,
   "metadata": {},
   "outputs": [
    {
     "data": {
      "text/plain": [
       "title           Arcadia aggregates energy data for companies t...\n",
       "content          Learn how your company can create application...\n",
       "polarity                                                 0.145557\n",
       "subjectivity                                             0.383228\n",
       "Name: 10, dtype: object"
      ]
     },
     "execution_count": 87,
     "metadata": {},
     "output_type": "execute_result"
    }
   ],
   "source": [
    "data_frame.iloc[10]"
   ]
  },
  {
   "cell_type": "code",
   "execution_count": 88,
   "metadata": {},
   "outputs": [
    {
     "data": {
      "text/plain": [
       "' Learn how your company can create applications to automate tasks and generate further efficiencies through low-code/no-code tools on November 9 at the virtual Low-Code/No-Code Summit. Register here.  Arcadia, a platform that gives companies access to aggregated data on energy usage and pricing to help them build clean energy products, has raised $200 million in a round of funding. Even with the best will in the world, companies across the industrial spectrum often struggle to mitigate their climate impact simply because they lack sufficient data and insights into all the energy usage that’s happening internally and externally through indirect scope 3 emissions.  As a result, we’re seeing a wealth of new tools and technologies go to market, designed to help companies measure their carbon emissions down through the supply chain, with the likes of Sweep and Greenly attracting investors’ cash in recent times, while the Linux Foundation recently launched OS-C to bring climate impact data to the global finance industry. Arcadia, for its part, is setting out on a similar mission to help organizations and consumers address their climate impact, by unlocking meter-level usage data and “mapping it to carbon intensity to create real accountability” on scope 1, 2 and 3 emissions.    Low-Code/No-Code SummitJoin today’s leading executives at the Low-Code/No-Code Summit virtually on November 9. Register for your free pass today.  Register Here  Big data Founded in 2014, Arcadia applies its proprietary technology to aggregated utility data and packages it via the Arc platform. “Businesses don’t have access to the high-fidelity, accurate energy data they need to create innovative energy and climate tech products, or monitor, report and act on their carbon impact,” Arcadia CEO Kiran Bhatraju told VentureBeat. “Data currently lives with hundreds of individual utilities and is neither aggregated nor easily accessible.” And so, Acadia combines all this data and presents the value as APIs, so companies can develop their own software products on top of this data — it’s a little like what Plaid has been doing in the finance industry for the past decade.  “With ubiquitous access to utility data, companies will be able to leverage the network effects of the data — the more access we can offer, the more valuable and useful it will be to them,” Bhatraju said. So, what kinds of products does Arcadia actually enable? Well, electric vehicle (EV) manufacturers — or those building products within the EV ecosystem — could provide their own customers with a precise at-home charging cost, without having to figure out exactly what electricity rate they’re on and conducting complex calculations. Moreover, companies can build products that automate EV car charging for times when electricity is at its cheapest, or where the energy is coming from renewable sources such as solar. Companies such as Ford are using Arcadia’s technology for just that.  Arcadia: Optimized EV charging Elsewhere, Arcadia’s technology can be used by solar and energy storage providers, who can then take over the billing process from the utility company and bundle everything into a simple, own-brand monthly statement, giving the homeowner access to granular data and analytics around their solar energy usage and consumption. But in truth, Arcadia targets anyone from retail energy providers and smart home manufacturers, to agriculture and carbon-accounting firms. It’s worth noting that Arcadia also offers customers ways to channel in to renewable energy sources in their own products, for example by offer their customers ways to join a local solar farm as part of their service agreement.  Arcadia: Connecting products and services to renewable energy Arcadia had previously raised around $170 million and with another $200 million in the bank — and a freshly attained $1.5 billion valuation — the company said that it plans to double down on its product development and expand its data coverage. “There isn’t another company with either the data coverage and offering the tools and APIs to build solutions using that data like Arc,” Bhatraju said. “Our investment and expansion will enable new use cases for Arc such as accurate, data-informed ESG (environmental, social and corporate governance) to allow companies to monitor, report and act on their carbon impact.” Arcadia’s latest funding round was led by J.P. Morgan Asset Management, with participation from Tiger Global Management, Triangle Peak Partners, Camber Creek, Wellington Management, Drawdown Fund, among others.VentureBeats mission is to be a digital town square for technical decision-makers to gain knowledge about transformative enterprise technology and transact. Discover our Briefings. '"
      ]
     },
     "execution_count": 88,
     "metadata": {},
     "output_type": "execute_result"
    }
   ],
   "source": [
    "data_frame['content'].iloc[10]"
   ]
  },
  {
   "cell_type": "code",
   "execution_count": null,
   "metadata": {},
   "outputs": [],
   "source": []
  }
 ],
 "metadata": {
  "kernelspec": {
   "display_name": "Python 3.8.10 64-bit",
   "language": "python",
   "name": "python3"
  },
  "language_info": {
   "codemirror_mode": {
    "name": "ipython",
    "version": 3
   },
   "file_extension": ".py",
   "mimetype": "text/x-python",
   "name": "python",
   "nbconvert_exporter": "python",
   "pygments_lexer": "ipython3",
   "version": "3.8.10"
  },
  "orig_nbformat": 4,
  "vscode": {
   "interpreter": {
    "hash": "916dbcbb3f70747c44a77c7bcd40155683ae19c65e1c03b4aa3499c5328201f1"
   }
  }
 },
 "nbformat": 4,
 "nbformat_minor": 2
}
